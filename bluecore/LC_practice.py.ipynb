{
 "cells": [
  {
   "cell_type": "code",
   "execution_count": 16,
   "metadata": {},
   "outputs": [],
   "source": [
    "#two sum\n",
    "# Given nums = [2, 7, 11, 15], target = 9,\n",
    "#\n",
    "# Because nums[0] + nums[1] = 2 + 7 = 9,\n",
    "# return [0, 1].\n",
    "nums = [2,7,11,15]\n",
    "target = 9\n",
    "\n",
    "def twoSum(nums, target):\n",
    "    for index, num in enumerate(nums):\n",
    "        diff = target - num\n",
    "        #print('diff', diff)\n",
    "        if diff in nums[index+1:]:\n",
    "            for diff_index, value in enumerate(nums):\n",
    "                if value ==diff:\n",
    "                    index_two = diff_index\n",
    "            index_one = index\n",
    "            return(index_one,index_two)\n",
    "        \n",
    "def two_sum_v2(nums, target):\n",
    "    d = {}\n",
    "    for index, num in enumerate(nums):\n",
    "        if target - num in d:\n",
    "            return(d[target - num], index)\n",
    "        else:\n",
    "            d[num] = index\n",
    "        "
   ]
  },
  {
   "cell_type": "code",
   "execution_count": 17,
   "metadata": {},
   "outputs": [
    {
     "data": {
      "text/plain": [
       "(0, 1)"
      ]
     },
     "execution_count": 17,
     "metadata": {},
     "output_type": "execute_result"
    }
   ],
   "source": [
    "twoSum([2,7,11,15],9)\n",
    "two_sum_v2([2,7,11,15],9)"
   ]
  },
  {
   "cell_type": "code",
   "execution_count": 40,
   "metadata": {},
   "outputs": [],
   "source": [
    "# maximum subarray\n",
    "# Input: [-2,1,-3,4,-1,2,1,-5,4],\n",
    "# Output: 6\n",
    "# Explanation: [4,-1,2,1] has the largest sum = 6."
   ]
  },
  {
   "cell_type": "code",
   "execution_count": 43,
   "metadata": {},
   "outputs": [],
   "source": [
    "def max_subarray(array):\n",
    "    max_sum , current_sum =- float('inf'), 0\n",
    "    for i, num in enumerate(array):\n",
    "        if current_sum + num>=0:\n",
    "            current_sum += num\n",
    "            max_sum = max(max_sum, current_sum)\n",
    "        else:\n",
    "            current_sum += num\n",
    "            max_sum = max(max_sum, current_sum)\n",
    "            current_sum = 0\n",
    "    return(max_sum)\n",
    "            \n",
    "        "
   ]
  },
  {
   "cell_type": "code",
   "execution_count": 44,
   "metadata": {},
   "outputs": [
    {
     "data": {
      "text/plain": [
       "6"
      ]
     },
     "execution_count": 44,
     "metadata": {},
     "output_type": "execute_result"
    }
   ],
   "source": [
    "max_subarray([-2,1,-3,4,-1,2,1,-5,4])"
   ]
  },
  {
   "cell_type": "code",
   "execution_count": 8,
   "metadata": {},
   "outputs": [],
   "source": [
    "# valid parenthesis\n",
    "# Input: \"{[]}\"\n",
    "# Output: true\n",
    "# Input: \"([)]\"\n",
    "# Output: false\n",
    "# Input: \"()[]{}\"\n",
    "# Output: true\n",
    "\n",
    "def valid_parenthesis(parenthesis):\n",
    "    valid = ['[]','{}','()']\n",
    "    while any(x in parenthesis for x in valid):\n",
    "        for x in valid:\n",
    "            parenthesis = parenthesis.replace(x,'')\n",
    "            \n",
    "    return(parenthesis=='')\n",
    "    "
   ]
  },
  {
   "cell_type": "code",
   "execution_count": 9,
   "metadata": {},
   "outputs": [
    {
     "data": {
      "text/plain": [
       "True"
      ]
     },
     "execution_count": 9,
     "metadata": {},
     "output_type": "execute_result"
    }
   ],
   "source": [
    "valid_parenthesis(\"((([]){}))\")"
   ]
  },
  {
   "cell_type": "code",
   "execution_count": 21,
   "metadata": {},
   "outputs": [],
   "source": [
    "# reorder log file\n",
    "# Input: [\"a1 9 2 3 1\",\"g1 act car\",\"zo4 4 7\",\"ab1 off key dog\",\"a8 act zoo\"]\n",
    "# Output: [\"g1 act car\",\"a8 act zoo\",\"ab1 off key dog\",\"a1 9 2 3 1\",\"zo4 4 7\"]\n",
    "# Reorder the logs so that all of the letter-logs come before any digit-log.  \n",
    "# The letter-logs are ordered lexicographically ignoring identifier, with the identifier used in case of ties.  \n",
    "# The digit-logs should be put in their original order.\n",
    "\n",
    "def reorder_logs(logs):\n",
    "    digit_logs = []\n",
    "    letter_logs = []\n",
    "    for log in logs:\n",
    "        if log.split(' ')[1].isnumeric():\n",
    "            digit_logs.append(log)\n",
    "        else:\n",
    "            letter_logs.append(log)\n",
    "    letter_logs = sorted(letter_logs, key = lambda x: (x.split(' ')[1:], x.split(' ')[0]))\n",
    "    return(letter_logs + digit_logs)"
   ]
  },
  {
   "cell_type": "code",
   "execution_count": 22,
   "metadata": {},
   "outputs": [
    {
     "data": {
      "text/plain": [
       "['g1 act car', 'a8 act zoo', 'ab1 off key dog', 'a1 9 2 3 1', 'zo4 4 7']"
      ]
     },
     "execution_count": 22,
     "metadata": {},
     "output_type": "execute_result"
    }
   ],
   "source": [
    "reorder_logs( [\"a1 9 2 3 1\",\"g1 act car\",\"zo4 4 7\",\"ab1 off key dog\",\"a8 act zoo\"])"
   ]
  },
  {
   "cell_type": "code",
   "execution_count": 47,
   "metadata": {},
   "outputs": [],
   "source": [
    "# Reverse interger\n",
    "# Input: 123\n",
    "# Output: 321\n",
    "# Input: -123\n",
    "# Output: -321\n",
    "# Input: 120\n",
    "# Output: 21\n",
    "\n",
    "def reverse_integer(n):\n",
    "    n = str(n)\n",
    "    if '-' in n:\n",
    "        n = n[1:]\n",
    "        n = n[::-1]\n",
    "        n = '-' + (n)\n",
    "    else:\n",
    "        n = n[::-1]\n",
    "    return(int(n))"
   ]
  },
  {
   "cell_type": "code",
   "execution_count": 48,
   "metadata": {},
   "outputs": [
    {
     "data": {
      "text/plain": [
       "321"
      ]
     },
     "execution_count": 48,
     "metadata": {},
     "output_type": "execute_result"
    }
   ],
   "source": [
    "reverse_integer(12300)"
   ]
  },
  {
   "cell_type": "code",
   "execution_count": 54,
   "metadata": {},
   "outputs": [],
   "source": [
    "# Best time to buy and sell stock, find the maximum profit\n",
    "# Input: [7,1,5,3,6,4]\n",
    "# Output: 5\n",
    "# Explanation: Buy on day 2 (price = 1) and sell on day 5 (price = 6), profit = 6-1 = 5.\n",
    "# Not 7-1 = 6, as selling price needs to be larger than buying price.\n",
    "\n",
    "# Input: [7,6,4,3,1]\n",
    "# Output: 0\n",
    "# Explanation: In this case, no transaction is done, i.e. max profit = 0.\n",
    "\n",
    "def stock_prof(prices):\n",
    "        max_prof, prof = 0, -float('inf')\n",
    "        i = 0\n",
    "        while i <len(prices) -1:\n",
    "            if prices[i] - prices[i+1] >0:\n",
    "                i +=1\n",
    "            else:\n",
    "                if max(prices[i+1:]) - prices[i] >0:\n",
    "                    prof = max(prices[i+1:]) - prices[i] \n",
    "                    max_prof = max(max_prof, prof)           \n",
    "                i+=1\n",
    "        return(max_prof)"
   ]
  },
  {
   "cell_type": "code",
   "execution_count": 55,
   "metadata": {},
   "outputs": [
    {
     "data": {
      "text/plain": [
       "5"
      ]
     },
     "execution_count": 55,
     "metadata": {},
     "output_type": "execute_result"
    }
   ],
   "source": [
    "stock_prof([7,1,5,3,6,4])"
   ]
  },
  {
   "cell_type": "code",
   "execution_count": 87,
   "metadata": {},
   "outputs": [],
   "source": [
    "# Jewel and Stone:\n",
    "# Input: J = \"aA\", S = \"aAAbbbb\"\n",
    "# Output: 3\n",
    "# Input: J = \"z\", S = \"ZZ\"\n",
    "# Output: 0\n",
    "def jew_num(J,S):\n",
    "    j_dict = {}\n",
    "    for j in list(J):\n",
    "        j_dict[j] = 0\n",
    "    for s in list(S):\n",
    "        if s in j_dict:\n",
    "            j_dict[s] +=1\n",
    "    print(j_dict)\n",
    "    return(sum(j_dict.values()))\n",
    "    \n",
    "    "
   ]
  },
  {
   "cell_type": "code",
   "execution_count": 88,
   "metadata": {},
   "outputs": [
    {
     "name": "stdout",
     "output_type": "stream",
     "text": [
      "{'a': 9, 'A': 4}\n"
     ]
    },
    {
     "data": {
      "text/plain": [
       "13"
      ]
     },
     "execution_count": 88,
     "metadata": {},
     "output_type": "execute_result"
    }
   ],
   "source": [
    "jew_num('aA','aasdsaaaaAAbbAAbbaaa')"
   ]
  },
  {
   "cell_type": "code",
   "execution_count": 96,
   "metadata": {},
   "outputs": [],
   "source": [
    "#Merge sorted array\n",
    "# Input:\n",
    "# nums1 = [1,2,3,0,0,0], m = 3\n",
    "# nums2 = [2,5,6],       n = 3\n",
    "\n",
    "# Output: [1,2,2,3,5,6]\n",
    "# modify in-place\n",
    "\n",
    "nums1 = [1,2,3,0,0,0]\n",
    "m = 3\n",
    "nums2 = [2,5,6]\n",
    "n = 3\n",
    "\n",
    "\n",
    "nums1[m:] = nums2\n",
    "# nums1.sort(reverse=True)\n",
    "nums1.sort()"
   ]
  },
  {
   "cell_type": "code",
   "execution_count": 97,
   "metadata": {},
   "outputs": [
    {
     "data": {
      "text/plain": [
       "[1, 2, 2, 3, 5, 6]"
      ]
     },
     "execution_count": 97,
     "metadata": {},
     "output_type": "execute_result"
    }
   ],
   "source": [
    "nums1"
   ]
  },
  {
   "cell_type": "code",
   "execution_count": 35,
   "metadata": {},
   "outputs": [],
   "source": [
    "# Roman to Integer\n",
    "# Symbol       Value\n",
    "# I             1\n",
    "# V             5\n",
    "# X             10\n",
    "# L             50\n",
    "# C             100\n",
    "# D             500\n",
    "# M             1000\n",
    "\n",
    "# I can be placed before V (5) and X (10) to make 4 and 9. \n",
    "# X can be placed before L (50) and C (100) to make 40 and 90. \n",
    "# C can be placed before D (500) and M (1000) to make 400 and 900.\n",
    "# Input: \"IX\"\n",
    "# Output: 9\n",
    "    \n",
    "# Input: \"MCMXCIV\"\n",
    "# Output: 1994\n",
    "s ='MCMXCIV'\n",
    "def romantoint(s):\n",
    "    roman_dict = { 'IV': 4, 'IX':9, 'XL':40, 'XC':90, 'CD':400, 'CM':900, 'I':1, 'V':5, 'X':10, 'L':50, 'C':100, 'D':500, 'M':1000}\n",
    "    res = []\n",
    "    while any(i in s for i in roman_dict.keys()):\n",
    "        for i in roman_dict.keys():\n",
    "            if i in s:\n",
    "                res.append(roman_dict[i])\n",
    "            s=s.replace(i,'',1)\n",
    "    return(sum(res))\n",
    "    "
   ]
  },
  {
   "cell_type": "code",
   "execution_count": 37,
   "metadata": {},
   "outputs": [
    {
     "data": {
      "text/plain": [
       "2216"
      ]
     },
     "execution_count": 37,
     "metadata": {},
     "output_type": "execute_result"
    }
   ],
   "source": [
    "romantoint('MCMXCIV')"
   ]
  },
  {
   "cell_type": "code",
   "execution_count": null,
   "metadata": {},
   "outputs": [],
   "source": []
  }
 ],
 "metadata": {
  "kernelspec": {
   "display_name": "Python 3",
   "language": "python",
   "name": "python3"
  },
  "language_info": {
   "codemirror_mode": {
    "name": "ipython",
    "version": 3
   },
   "file_extension": ".py",
   "mimetype": "text/x-python",
   "name": "python",
   "nbconvert_exporter": "python",
   "pygments_lexer": "ipython3",
   "version": "3.7.0"
  }
 },
 "nbformat": 4,
 "nbformat_minor": 2
}
