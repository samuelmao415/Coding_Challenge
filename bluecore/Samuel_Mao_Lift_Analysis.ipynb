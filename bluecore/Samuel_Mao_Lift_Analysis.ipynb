{
 "cells": [
  {
   "cell_type": "markdown",
   "metadata": {},
   "source": [
    "#### EDA\n",
    "- summary:\n",
    "    - delivers 1,062,584 observations\n",
    "    - halts 106,866 observations\n",
    "    - purchase 62,564 observations\n",
    "- data manipulation:\n",
    "    - removed 'MISSING' value from column 'total'\n",
    "    - changed 'event_type'  data type into timestamp\n",
    "    - changed 'total' data type into numeric\n",
    "    - removed duplicate emails that occured in both delivers and halts, because users should belong to only one group\n",
    "- observations:\n",
    "    - the first three days has way more sales than the rest, indicating there could be sales event, which could undermine the conversion of email campaign\n",
    "    - the distribution of types of emails sent are similar between two groups\n",
    "    - the price distribution are similar between two groups, despite some outliers\n",
    "    - action distrubition that led to Purchase shows similar mean. However, delivered email for welcome and price decrease action show higher purchased price occurances where customers with halted emails did not show similar purchase behavior\n",
    "    - the BC and control are not 95 % to 5 % split as was expected; control group (halts) constitutes 9% of the total observation\n",
    "    \n",
    "#### Metrics:\n",
    "- summary:\n",
    "    - pro:  the more emails sent, the higher the chance a user would purchase\n",
    "    - con: simply sending emails does not mean customers are more likely to purchase more frequently\n",
    "    - con: simply sending emails does not mean customers are more likely to spent more dollars overall\n",
    "    - con: simply sending emails does not mean to yield more customers\n",
    "    \n",
    "    \n",
    "- data manipulation:\n",
    "    - removed observations where email was sent/halted less than 5 days before the end of of purchase obervation (so that users will have at least 5 days to react to email after receiving them)\n",
    "    - removed users who purchased before anyone email was sent/halted\n",
    "    \n",
    "    \n",
    "- metrics:\n",
    "\n",
    "\n",
    "    - delivered purchase conversion rate:  0.0345\n",
    "    - halted purchase conversion rate:  0.0423\n",
    "    - lift purchase convertion rate:  -0.1839\n",
    "    \n",
    "    \n",
    "    - delivered customer conversion rate:  0.0249\n",
    "    - halted customer conversion rate:  0.0283\n",
    "    - lift customer convertion rate:  -0.12112\n",
    "    \n",
    "    \n",
    "    - delivered email conversion rate:  0.0119\n",
    "    - halted email conversion rate:  0.0076\n",
    "    - lift email convertion rate:  0.5680\n",
    "    \n",
    "    \n",
    "    - delivered attributed revenue per email:  4.822\n",
    "    - halted attributed revenue per email:  6.188\n",
    "    - lift attributed revenue per email:  -0.2207\n",
    "    \n",
    "- next steps: \n",
    "    - dig into the types of email sent, which could solve the descripencies in shown in the metrics: certain behaviors trigger certain emails sent that could be more effective than other emails\n",
    "    - run another experiment without the some of the problems occured in the dataset mentioned above\n",
    "    "
   ]
  },
  {
   "cell_type": "code",
   "execution_count": 1,
   "metadata": {},
   "outputs": [],
   "source": [
    "import pandas as pd\n",
    "import numpy as np\n",
    "import seaborn as sns\n",
    "from matplotlib import pyplot as plt\n",
    "plt.style.use('ggplot')\n",
    "%matplotlib inline"
   ]
  },
  {
   "cell_type": "code",
   "execution_count": 2,
   "metadata": {},
   "outputs": [],
   "source": [
    "df = pd.read_csv('./lift_analysis_assignment.csv',low_memory=False)"
   ]
  },
  {
   "cell_type": "markdown",
   "metadata": {},
   "source": [
    "### Data Exploration and Summary"
   ]
  },
  {
   "cell_type": "code",
   "execution_count": 3,
   "metadata": {
    "scrolled": true
   },
   "outputs": [
    {
     "data": {
      "text/html": [
       "<div>\n",
       "<style scoped>\n",
       "    .dataframe tbody tr th:only-of-type {\n",
       "        vertical-align: middle;\n",
       "    }\n",
       "\n",
       "    .dataframe tbody tr th {\n",
       "        vertical-align: top;\n",
       "    }\n",
       "\n",
       "    .dataframe thead th {\n",
       "        text-align: right;\n",
       "    }\n",
       "</style>\n",
       "<table border=\"1\" class=\"dataframe\">\n",
       "  <thead>\n",
       "    <tr style=\"text-align: right;\">\n",
       "      <th></th>\n",
       "      <th>email</th>\n",
       "      <th>event_date</th>\n",
       "      <th>event_type</th>\n",
       "      <th>action</th>\n",
       "      <th>total</th>\n",
       "    </tr>\n",
       "  </thead>\n",
       "  <tbody>\n",
       "    <tr>\n",
       "      <th>0</th>\n",
       "      <td>4867784685125632</td>\n",
       "      <td>2015-10-26 21:38:03.911350</td>\n",
       "      <td>delivered</td>\n",
       "      <td>window_shopping</td>\n",
       "      <td>-1</td>\n",
       "    </tr>\n",
       "    <tr>\n",
       "      <th>1</th>\n",
       "      <td>5352432066363392</td>\n",
       "      <td>2015-10-26 21:37:57.871980</td>\n",
       "      <td>delivered</td>\n",
       "      <td>window_shopping</td>\n",
       "      <td>-1</td>\n",
       "    </tr>\n",
       "    <tr>\n",
       "      <th>2</th>\n",
       "      <td>6024938649550848</td>\n",
       "      <td>2015-10-26 21:37:57.853210</td>\n",
       "      <td>delivered</td>\n",
       "      <td>window_shopping</td>\n",
       "      <td>-1</td>\n",
       "    </tr>\n",
       "    <tr>\n",
       "      <th>3</th>\n",
       "      <td>6191500064980992</td>\n",
       "      <td>2015-10-26 21:37:58.867800</td>\n",
       "      <td>delivered</td>\n",
       "      <td>window_shopping</td>\n",
       "      <td>-1</td>\n",
       "    </tr>\n",
       "    <tr>\n",
       "      <th>4</th>\n",
       "      <td>5786846443339776</td>\n",
       "      <td>2015-10-26 21:37:56.331130</td>\n",
       "      <td>delivered</td>\n",
       "      <td>window_shopping</td>\n",
       "      <td>-1</td>\n",
       "    </tr>\n",
       "  </tbody>\n",
       "</table>\n",
       "</div>"
      ],
      "text/plain": [
       "              email                  event_date event_type           action  \\\n",
       "0  4867784685125632  2015-10-26 21:38:03.911350  delivered  window_shopping   \n",
       "1  5352432066363392  2015-10-26 21:37:57.871980  delivered  window_shopping   \n",
       "2  6024938649550848  2015-10-26 21:37:57.853210  delivered  window_shopping   \n",
       "3  6191500064980992  2015-10-26 21:37:58.867800  delivered  window_shopping   \n",
       "4  5786846443339776  2015-10-26 21:37:56.331130  delivered  window_shopping   \n",
       "\n",
       "  total  \n",
       "0    -1  \n",
       "1    -1  \n",
       "2    -1  \n",
       "3    -1  \n",
       "4    -1  "
      ]
     },
     "execution_count": 3,
     "metadata": {},
     "output_type": "execute_result"
    }
   ],
   "source": [
    "df.head()"
   ]
  },
  {
   "cell_type": "code",
   "execution_count": 4,
   "metadata": {
    "scrolled": true
   },
   "outputs": [
    {
     "name": "stdout",
     "output_type": "stream",
     "text": [
      "(1244308, 5)\n"
     ]
    },
    {
     "data": {
      "text/plain": [
       "0"
      ]
     },
     "execution_count": 4,
     "metadata": {},
     "output_type": "execute_result"
    }
   ],
   "source": [
    "print(df.shape) \n",
    "sum(df.isnull().any())#0 missing value\n"
   ]
  },
  {
   "cell_type": "code",
   "execution_count": 5,
   "metadata": {},
   "outputs": [
    {
     "name": "stdout",
     "output_type": "stream",
     "text": [
      "<class 'pandas.core.frame.DataFrame'>\n",
      "RangeIndex: 1244308 entries, 0 to 1244307\n",
      "Data columns (total 5 columns):\n",
      "email         1244308 non-null int64\n",
      "event_date    1244308 non-null object\n",
      "event_type    1244308 non-null object\n",
      "action        1244308 non-null object\n",
      "total         1244308 non-null object\n",
      "dtypes: int64(1), object(4)\n",
      "memory usage: 47.5+ MB\n"
     ]
    }
   ],
   "source": [
    "df.info() #check data info #no null, but total is object, which will need to be changed to numeric eventually"
   ]
  },
  {
   "cell_type": "code",
   "execution_count": 6,
   "metadata": {},
   "outputs": [
    {
     "data": {
      "text/html": [
       "<div>\n",
       "<style scoped>\n",
       "    .dataframe tbody tr th:only-of-type {\n",
       "        vertical-align: middle;\n",
       "    }\n",
       "\n",
       "    .dataframe tbody tr th {\n",
       "        vertical-align: top;\n",
       "    }\n",
       "\n",
       "    .dataframe thead th {\n",
       "        text-align: right;\n",
       "    }\n",
       "</style>\n",
       "<table border=\"1\" class=\"dataframe\">\n",
       "  <thead>\n",
       "    <tr style=\"text-align: right;\">\n",
       "      <th></th>\n",
       "      <th>email</th>\n",
       "      <th>event_date</th>\n",
       "      <th>action</th>\n",
       "      <th>total</th>\n",
       "    </tr>\n",
       "    <tr>\n",
       "      <th>event_type</th>\n",
       "      <th></th>\n",
       "      <th></th>\n",
       "      <th></th>\n",
       "      <th></th>\n",
       "    </tr>\n",
       "  </thead>\n",
       "  <tbody>\n",
       "    <tr>\n",
       "      <th>delivered</th>\n",
       "      <td>1062584</td>\n",
       "      <td>1062584</td>\n",
       "      <td>1062584</td>\n",
       "      <td>1062584</td>\n",
       "    </tr>\n",
       "    <tr>\n",
       "      <th>halted</th>\n",
       "      <td>106866</td>\n",
       "      <td>106866</td>\n",
       "      <td>106866</td>\n",
       "      <td>106866</td>\n",
       "    </tr>\n",
       "    <tr>\n",
       "      <th>purchase</th>\n",
       "      <td>74858</td>\n",
       "      <td>74858</td>\n",
       "      <td>74858</td>\n",
       "      <td>74858</td>\n",
       "    </tr>\n",
       "  </tbody>\n",
       "</table>\n",
       "</div>"
      ],
      "text/plain": [
       "              email  event_date   action    total\n",
       "event_type                                       \n",
       "delivered   1062584     1062584  1062584  1062584\n",
       "halted       106866      106866   106866   106866\n",
       "purchase      74858       74858    74858    74858"
      ]
     },
     "execution_count": 6,
     "metadata": {},
     "output_type": "execute_result"
    }
   ],
   "source": [
    "df.groupby('event_type').count() #no typo in event_type"
   ]
  },
  {
   "cell_type": "code",
   "execution_count": 7,
   "metadata": {},
   "outputs": [
    {
     "data": {
      "text/html": [
       "<div>\n",
       "<style scoped>\n",
       "    .dataframe tbody tr th:only-of-type {\n",
       "        vertical-align: middle;\n",
       "    }\n",
       "\n",
       "    .dataframe tbody tr th {\n",
       "        vertical-align: top;\n",
       "    }\n",
       "\n",
       "    .dataframe thead th {\n",
       "        text-align: right;\n",
       "    }\n",
       "</style>\n",
       "<table border=\"1\" class=\"dataframe\">\n",
       "  <thead>\n",
       "    <tr style=\"text-align: right;\">\n",
       "      <th></th>\n",
       "      <th>email</th>\n",
       "      <th>event_date</th>\n",
       "      <th>event_type</th>\n",
       "      <th>total</th>\n",
       "    </tr>\n",
       "    <tr>\n",
       "      <th>action</th>\n",
       "      <th></th>\n",
       "      <th></th>\n",
       "      <th></th>\n",
       "      <th></th>\n",
       "    </tr>\n",
       "  </thead>\n",
       "  <tbody>\n",
       "    <tr>\n",
       "      <th>-1</th>\n",
       "      <td>74858</td>\n",
       "      <td>74858</td>\n",
       "      <td>74858</td>\n",
       "      <td>74858</td>\n",
       "    </tr>\n",
       "    <tr>\n",
       "      <th>abandoned_search</th>\n",
       "      <td>581979</td>\n",
       "      <td>581979</td>\n",
       "      <td>581979</td>\n",
       "      <td>581979</td>\n",
       "    </tr>\n",
       "    <tr>\n",
       "      <th>price_decrease_customer</th>\n",
       "      <td>2503</td>\n",
       "      <td>2503</td>\n",
       "      <td>2503</td>\n",
       "      <td>2503</td>\n",
       "    </tr>\n",
       "    <tr>\n",
       "      <th>welcome</th>\n",
       "      <td>267231</td>\n",
       "      <td>267231</td>\n",
       "      <td>267231</td>\n",
       "      <td>267231</td>\n",
       "    </tr>\n",
       "    <tr>\n",
       "      <th>window_shopping</th>\n",
       "      <td>317737</td>\n",
       "      <td>317737</td>\n",
       "      <td>317737</td>\n",
       "      <td>317737</td>\n",
       "    </tr>\n",
       "  </tbody>\n",
       "</table>\n",
       "</div>"
      ],
      "text/plain": [
       "                          email  event_date  event_type   total\n",
       "action                                                         \n",
       "-1                        74858       74858       74858   74858\n",
       "abandoned_search         581979      581979      581979  581979\n",
       "price_decrease_customer    2503        2503        2503    2503\n",
       "welcome                  267231      267231      267231  267231\n",
       "window_shopping          317737      317737      317737  317737"
      ]
     },
     "execution_count": 7,
     "metadata": {},
     "output_type": "execute_result"
    }
   ],
   "source": [
    "df.groupby('action').count() # no typo in action"
   ]
  },
  {
   "cell_type": "code",
   "execution_count": 8,
   "metadata": {},
   "outputs": [
    {
     "data": {
      "text/html": [
       "<div>\n",
       "<style scoped>\n",
       "    .dataframe tbody tr th:only-of-type {\n",
       "        vertical-align: middle;\n",
       "    }\n",
       "\n",
       "    .dataframe tbody tr th {\n",
       "        vertical-align: top;\n",
       "    }\n",
       "\n",
       "    .dataframe thead th {\n",
       "        text-align: right;\n",
       "    }\n",
       "</style>\n",
       "<table border=\"1\" class=\"dataframe\">\n",
       "  <thead>\n",
       "    <tr style=\"text-align: right;\">\n",
       "      <th></th>\n",
       "      <th>email</th>\n",
       "      <th>event_date</th>\n",
       "      <th>event_type</th>\n",
       "      <th>action</th>\n",
       "    </tr>\n",
       "    <tr>\n",
       "      <th>total</th>\n",
       "      <th></th>\n",
       "      <th></th>\n",
       "      <th></th>\n",
       "      <th></th>\n",
       "    </tr>\n",
       "  </thead>\n",
       "  <tbody>\n",
       "    <tr>\n",
       "      <th>999.9</th>\n",
       "      <td>2</td>\n",
       "      <td>2</td>\n",
       "      <td>2</td>\n",
       "      <td>2</td>\n",
       "    </tr>\n",
       "    <tr>\n",
       "      <th>999.97</th>\n",
       "      <td>1</td>\n",
       "      <td>1</td>\n",
       "      <td>1</td>\n",
       "      <td>1</td>\n",
       "    </tr>\n",
       "    <tr>\n",
       "      <th>999.98</th>\n",
       "      <td>4</td>\n",
       "      <td>4</td>\n",
       "      <td>4</td>\n",
       "      <td>4</td>\n",
       "    </tr>\n",
       "    <tr>\n",
       "      <th>999.99</th>\n",
       "      <td>11</td>\n",
       "      <td>11</td>\n",
       "      <td>11</td>\n",
       "      <td>11</td>\n",
       "    </tr>\n",
       "    <tr>\n",
       "      <th>MISSING</th>\n",
       "      <td>12294</td>\n",
       "      <td>12294</td>\n",
       "      <td>12294</td>\n",
       "      <td>12294</td>\n",
       "    </tr>\n",
       "  </tbody>\n",
       "</table>\n",
       "</div>"
      ],
      "text/plain": [
       "         email  event_date  event_type  action\n",
       "total                                         \n",
       "999.9        2           2           2       2\n",
       "999.97       1           1           1       1\n",
       "999.98       4           4           4       4\n",
       "999.99      11          11          11      11\n",
       "MISSING  12294       12294       12294   12294"
      ]
     },
     "execution_count": 8,
     "metadata": {},
     "output_type": "execute_result"
    }
   ],
   "source": [
    "df.groupby('total').count().sort_values('total').tail() #there is value called 'MISSING' in total; need to be dealt with."
   ]
  },
  {
   "cell_type": "code",
   "execution_count": 9,
   "metadata": {},
   "outputs": [
    {
     "data": {
      "text/html": [
       "<div>\n",
       "<style scoped>\n",
       "    .dataframe tbody tr th:only-of-type {\n",
       "        vertical-align: middle;\n",
       "    }\n",
       "\n",
       "    .dataframe tbody tr th {\n",
       "        vertical-align: top;\n",
       "    }\n",
       "\n",
       "    .dataframe thead th {\n",
       "        text-align: right;\n",
       "    }\n",
       "</style>\n",
       "<table border=\"1\" class=\"dataframe\">\n",
       "  <thead>\n",
       "    <tr style=\"text-align: right;\">\n",
       "      <th></th>\n",
       "      <th>email</th>\n",
       "      <th>event_date</th>\n",
       "      <th>event_type</th>\n",
       "      <th>action</th>\n",
       "    </tr>\n",
       "    <tr>\n",
       "      <th>total</th>\n",
       "      <th></th>\n",
       "      <th></th>\n",
       "      <th></th>\n",
       "      <th></th>\n",
       "    </tr>\n",
       "  </thead>\n",
       "  <tbody>\n",
       "    <tr>\n",
       "      <th>6219.79</th>\n",
       "      <td>1</td>\n",
       "      <td>1</td>\n",
       "      <td>1</td>\n",
       "      <td>1</td>\n",
       "    </tr>\n",
       "    <tr>\n",
       "      <th>6299.89</th>\n",
       "      <td>1</td>\n",
       "      <td>1</td>\n",
       "      <td>1</td>\n",
       "      <td>1</td>\n",
       "    </tr>\n",
       "    <tr>\n",
       "      <th>6453.17</th>\n",
       "      <td>1</td>\n",
       "      <td>1</td>\n",
       "      <td>1</td>\n",
       "      <td>1</td>\n",
       "    </tr>\n",
       "    <tr>\n",
       "      <th>6600.01</th>\n",
       "      <td>1</td>\n",
       "      <td>1</td>\n",
       "      <td>1</td>\n",
       "      <td>1</td>\n",
       "    </tr>\n",
       "    <tr>\n",
       "      <th>6720.00</th>\n",
       "      <td>2</td>\n",
       "      <td>2</td>\n",
       "      <td>2</td>\n",
       "      <td>2</td>\n",
       "    </tr>\n",
       "    <tr>\n",
       "      <th>6826.00</th>\n",
       "      <td>6</td>\n",
       "      <td>6</td>\n",
       "      <td>6</td>\n",
       "      <td>6</td>\n",
       "    </tr>\n",
       "    <tr>\n",
       "      <th>8191.00</th>\n",
       "      <td>1</td>\n",
       "      <td>1</td>\n",
       "      <td>1</td>\n",
       "      <td>1</td>\n",
       "    </tr>\n",
       "    <tr>\n",
       "      <th>10996.00</th>\n",
       "      <td>1</td>\n",
       "      <td>1</td>\n",
       "      <td>1</td>\n",
       "      <td>1</td>\n",
       "    </tr>\n",
       "    <tr>\n",
       "      <th>11343.93</th>\n",
       "      <td>1</td>\n",
       "      <td>1</td>\n",
       "      <td>1</td>\n",
       "      <td>1</td>\n",
       "    </tr>\n",
       "    <tr>\n",
       "      <th>13546.00</th>\n",
       "      <td>1</td>\n",
       "      <td>1</td>\n",
       "      <td>1</td>\n",
       "      <td>1</td>\n",
       "    </tr>\n",
       "  </tbody>\n",
       "</table>\n",
       "</div>"
      ],
      "text/plain": [
       "          email  event_date  event_type  action\n",
       "total                                          \n",
       "6219.79       1           1           1       1\n",
       "6299.89       1           1           1       1\n",
       "6453.17       1           1           1       1\n",
       "6600.01       1           1           1       1\n",
       "6720.00       2           2           2       2\n",
       "6826.00       6           6           6       6\n",
       "8191.00       1           1           1       1\n",
       "10996.00      1           1           1       1\n",
       "11343.93      1           1           1       1\n",
       "13546.00      1           1           1       1"
      ]
     },
     "execution_count": 9,
     "metadata": {},
     "output_type": "execute_result"
    }
   ],
   "source": [
    "#impute MISSING in total: remove them, so as not to introduce noise to the purchase price; for better study, database needs to be fixed\n",
    "df = df[df['total'] !='MISSING'].reset_index(drop= True)\n",
    "df['total'] = pd.to_numeric(df['total'])\n",
    "df.groupby('total').count().tail(10) #missing value removed"
   ]
  },
  {
   "cell_type": "code",
   "execution_count": 10,
   "metadata": {},
   "outputs": [],
   "source": [
    "#change event_date type from str to datetime\n",
    "df['event_date'].dtype\n",
    "df['event_date'] = pd.to_datetime(df['event_date'])"
   ]
  },
  {
   "cell_type": "code",
   "execution_count": 11,
   "metadata": {},
   "outputs": [
    {
     "data": {
      "text/plain": [
       "<matplotlib.axes._subplots.AxesSubplot at 0x1b49f5a7c18>"
      ]
     },
     "execution_count": 11,
     "metadata": {},
     "output_type": "execute_result"
    },
    {
     "data": {
      "image/png": "[encoded data removed]",
      "text/plain": [
       "<Figure size 1080x360 with 1 Axes>"
      ]
     },
     "metadata": {
      "needs_background": "light"
     },
     "output_type": "display_data"
    }
   ],
   "source": [
    "#visualize date distribution, make there are observations for each type everyday\n",
    "#also notice there are way much data in the first three days, maybe the company has some kind of event that is driving the sales, thus making this email experiment less effective\n",
    "#a promotion event in the beginning of the month, so consumers are less inclined to purchase\n",
    "from pylab import rcParams\n",
    "rcParams['figure.figsize'] = 15, 5\n",
    "\n",
    "df.groupby([df.event_date.dt.date,df.event_type])['event_date','event_type'].count()['event_date'].unstack().reset_index() \\\n",
    ".plot.bar(x='event_date', y =['delivered','halted','purchase'])\n",
    "\n"
   ]
  },
  {
   "cell_type": "code",
   "execution_count": 12,
   "metadata": {},
   "outputs": [],
   "source": [
    "#segment dataset into  Delivers, Halts, Purchase to analysis later\n",
    "df_delivers = df[df['event_type']=='delivered'].reset_index(drop=True)\n",
    "df_halts = df[df['event_type']=='halted'].reset_index(drop=True)\n",
    "df_purchase = df[df['event_type']=='purchase'].reset_index(drop=True)"
   ]
  },
  {
   "cell_type": "code",
   "execution_count": 13,
   "metadata": {},
   "outputs": [
    {
     "name": "stdout",
     "output_type": "stream",
     "text": [
      "delivers (1062584, 5)\n",
      "halts (106866, 5)\n",
      "purchase (62564, 5)\n"
     ]
    }
   ],
   "source": [
    "print('delivers',df_delivers.shape)\n",
    "print('halts', df_halts.shape)\n",
    "print('purchase', df_purchase.shape) \n",
    "#check the data shape"
   ]
  },
  {
   "cell_type": "code",
   "execution_count": 14,
   "metadata": {},
   "outputs": [
    {
     "name": "stdout",
     "output_type": "stream",
     "text": [
      "count of dup emails: 66\n"
     ]
    }
   ],
   "source": [
    "# check if is any email that exist in both delivers and halt\n",
    "dup_emails = df_delivers.merge(df_halts, on = 'email', how = 'inner')['email'].unique()\n",
    "print('count of dup emails:', len(dup_emails))"
   ]
  },
  {
   "cell_type": "code",
   "execution_count": 15,
   "metadata": {},
   "outputs": [],
   "source": [
    "df_halts = df_halts[df_halts['email'].isin(dup_emails) ==False].reset_index(drop=True)\n",
    "df_delivers =df_delivers[df_delivers['email'].isin(dup_emails) ==False].reset_index(drop=True)"
   ]
  },
  {
   "cell_type": "code",
   "execution_count": 16,
   "metadata": {},
   "outputs": [
    {
     "name": "stdout",
     "output_type": "stream",
     "text": [
      "(106800, 5)\n",
      "(1062389, 5)\n"
     ]
    }
   ],
   "source": [
    "#check the shape again\n",
    "print(df_halts.shape)\n",
    "print(df_delivers.shape)"
   ]
  },
  {
   "cell_type": "code",
   "execution_count": 17,
   "metadata": {},
   "outputs": [
    {
     "data": {
      "text/plain": [
       "<matplotlib.axes._subplots.AxesSubplot at 0x1b4a32e94a8>"
      ]
     },
     "execution_count": 17,
     "metadata": {},
     "output_type": "execute_result"
    },
    {
     "data": {
      "text/plain": [
       "<Figure size 360x360 with 0 Axes>"
      ]
     },
     "metadata": {},
     "output_type": "display_data"
    },
    {
     "data": {
      "image/png": "[encoded data removed]",
      "text/plain": [
       "<Figure size 1080x360 with 1 Axes>"
      ]
     },
     "metadata": {
      "needs_background": "light"
     },
     "output_type": "display_data"
    },
    {
     "data": {
      "text/plain": [
       "<Figure size 360x360 with 0 Axes>"
      ]
     },
     "metadata": {},
     "output_type": "display_data"
    },
    {
     "data": {
      "image/png": "[encoded data removed]",
      "text/plain": [
       "<Figure size 1080x360 with 1 Axes>"
      ]
     },
     "metadata": {
      "needs_background": "light"
     },
     "output_type": "display_data"
    }
   ],
   "source": [
    "#action distrubition are similar between delivered and halted\n",
    "plt.figure(figsize=(5,5))\n",
    "df_delivers.groupby('action')['action'] \\\n",
    ".count().reset_index(name='count') \\\n",
    ".sort_values(['count'],ascending=False).plot.bar(x='action',color='g',title='Action In Delivered')\n",
    "\n",
    "plt.figure(figsize=(5,5))\n",
    "df_halts.groupby('action')['action'] \\\n",
    ".count().reset_index(name='count') \\\n",
    ".sort_values(['count'],ascending=False).plot.bar(x='action',color='r',title='Action In Halted')"
   ]
  },
  {
   "cell_type": "code",
   "execution_count": 18,
   "metadata": {},
   "outputs": [],
   "source": [
    "#join both delivers and halts with purchase data, and use this data for analysis later\n",
    "df_delivers_purchase = df_delivers.merge(df_purchase, on = 'email', how = 'inner')\n",
    "df_halts_purchase = df_halts.merge(df_purchase, on = 'email', how = 'inner')"
   ]
  },
  {
   "cell_type": "code",
   "execution_count": 19,
   "metadata": {},
   "outputs": [
    {
     "data": {
      "text/html": [
       "<div>\n",
       "<style scoped>\n",
       "    .dataframe tbody tr th:only-of-type {\n",
       "        vertical-align: middle;\n",
       "    }\n",
       "\n",
       "    .dataframe tbody tr th {\n",
       "        vertical-align: top;\n",
       "    }\n",
       "\n",
       "    .dataframe thead th {\n",
       "        text-align: right;\n",
       "    }\n",
       "</style>\n",
       "<table border=\"1\" class=\"dataframe\">\n",
       "  <thead>\n",
       "    <tr style=\"text-align: right;\">\n",
       "      <th></th>\n",
       "      <th>email</th>\n",
       "      <th>event_date_x</th>\n",
       "      <th>event_type_x</th>\n",
       "      <th>action_x</th>\n",
       "      <th>total_x</th>\n",
       "      <th>event_date_y</th>\n",
       "      <th>event_type_y</th>\n",
       "      <th>action_y</th>\n",
       "      <th>total_y</th>\n",
       "    </tr>\n",
       "  </thead>\n",
       "  <tbody>\n",
       "    <tr>\n",
       "      <th>0</th>\n",
       "      <td>5352432066363392</td>\n",
       "      <td>2015-10-26 21:37:57.871980</td>\n",
       "      <td>delivered</td>\n",
       "      <td>window_shopping</td>\n",
       "      <td>-1.0</td>\n",
       "      <td>2015-10-17 20:41:17.442430</td>\n",
       "      <td>purchase</td>\n",
       "      <td>-1</td>\n",
       "      <td>0.0</td>\n",
       "    </tr>\n",
       "    <tr>\n",
       "      <th>1</th>\n",
       "      <td>5352432066363392</td>\n",
       "      <td>2015-10-15 20:40:38.435980</td>\n",
       "      <td>delivered</td>\n",
       "      <td>abandoned_search</td>\n",
       "      <td>-1.0</td>\n",
       "      <td>2015-10-17 20:41:17.442430</td>\n",
       "      <td>purchase</td>\n",
       "      <td>-1</td>\n",
       "      <td>0.0</td>\n",
       "    </tr>\n",
       "    <tr>\n",
       "      <th>2</th>\n",
       "      <td>5352432066363392</td>\n",
       "      <td>2015-10-02 20:40:15.310130</td>\n",
       "      <td>delivered</td>\n",
       "      <td>window_shopping</td>\n",
       "      <td>-1.0</td>\n",
       "      <td>2015-10-17 20:41:17.442430</td>\n",
       "      <td>purchase</td>\n",
       "      <td>-1</td>\n",
       "      <td>0.0</td>\n",
       "    </tr>\n",
       "  </tbody>\n",
       "</table>\n",
       "</div>"
      ],
      "text/plain": [
       "              email               event_date_x event_type_x          action_x  \\\n",
       "0  5352432066363392 2015-10-26 21:37:57.871980    delivered   window_shopping   \n",
       "1  5352432066363392 2015-10-15 20:40:38.435980    delivered  abandoned_search   \n",
       "2  5352432066363392 2015-10-02 20:40:15.310130    delivered   window_shopping   \n",
       "\n",
       "   total_x               event_date_y event_type_y action_y  total_y  \n",
       "0     -1.0 2015-10-17 20:41:17.442430     purchase       -1      0.0  \n",
       "1     -1.0 2015-10-17 20:41:17.442430     purchase       -1      0.0  \n",
       "2     -1.0 2015-10-17 20:41:17.442430     purchase       -1      0.0  "
      ]
     },
     "execution_count": 19,
     "metadata": {},
     "output_type": "execute_result"
    }
   ],
   "source": [
    "#delivered and purchased data\n",
    "df_delivers_purchase.head(3)"
   ]
  },
  {
   "cell_type": "code",
   "execution_count": 20,
   "metadata": {},
   "outputs": [
    {
     "data": {
      "text/html": [
       "<div>\n",
       "<style scoped>\n",
       "    .dataframe tbody tr th:only-of-type {\n",
       "        vertical-align: middle;\n",
       "    }\n",
       "\n",
       "    .dataframe tbody tr th {\n",
       "        vertical-align: top;\n",
       "    }\n",
       "\n",
       "    .dataframe thead th {\n",
       "        text-align: right;\n",
       "    }\n",
       "</style>\n",
       "<table border=\"1\" class=\"dataframe\">\n",
       "  <thead>\n",
       "    <tr style=\"text-align: right;\">\n",
       "      <th></th>\n",
       "      <th>email</th>\n",
       "      <th>event_date_x</th>\n",
       "      <th>event_type_x</th>\n",
       "      <th>action_x</th>\n",
       "      <th>total_x</th>\n",
       "      <th>event_date_y</th>\n",
       "      <th>event_type_y</th>\n",
       "      <th>action_y</th>\n",
       "      <th>total_y</th>\n",
       "    </tr>\n",
       "  </thead>\n",
       "  <tbody>\n",
       "    <tr>\n",
       "      <th>0</th>\n",
       "      <td>6153409711308800</td>\n",
       "      <td>2015-10-01 01:55:10.790190</td>\n",
       "      <td>halted</td>\n",
       "      <td>abandoned_search</td>\n",
       "      <td>-1.0</td>\n",
       "      <td>2015-10-04 21:16:03.500740</td>\n",
       "      <td>purchase</td>\n",
       "      <td>-1</td>\n",
       "      <td>0.0</td>\n",
       "    </tr>\n",
       "    <tr>\n",
       "      <th>1</th>\n",
       "      <td>6153409711308800</td>\n",
       "      <td>2015-10-02 02:35:17.144730</td>\n",
       "      <td>halted</td>\n",
       "      <td>window_shopping</td>\n",
       "      <td>-1.0</td>\n",
       "      <td>2015-10-04 21:16:03.500740</td>\n",
       "      <td>purchase</td>\n",
       "      <td>-1</td>\n",
       "      <td>0.0</td>\n",
       "    </tr>\n",
       "    <tr>\n",
       "      <th>2</th>\n",
       "      <td>6153409711308800</td>\n",
       "      <td>2015-10-02 00:56:56.288340</td>\n",
       "      <td>halted</td>\n",
       "      <td>abandoned_search</td>\n",
       "      <td>-1.0</td>\n",
       "      <td>2015-10-04 21:16:03.500740</td>\n",
       "      <td>purchase</td>\n",
       "      <td>-1</td>\n",
       "      <td>0.0</td>\n",
       "    </tr>\n",
       "  </tbody>\n",
       "</table>\n",
       "</div>"
      ],
      "text/plain": [
       "              email               event_date_x event_type_x          action_x  \\\n",
       "0  6153409711308800 2015-10-01 01:55:10.790190       halted  abandoned_search   \n",
       "1  6153409711308800 2015-10-02 02:35:17.144730       halted   window_shopping   \n",
       "2  6153409711308800 2015-10-02 00:56:56.288340       halted  abandoned_search   \n",
       "\n",
       "   total_x               event_date_y event_type_y action_y  total_y  \n",
       "0     -1.0 2015-10-04 21:16:03.500740     purchase       -1      0.0  \n",
       "1     -1.0 2015-10-04 21:16:03.500740     purchase       -1      0.0  \n",
       "2     -1.0 2015-10-04 21:16:03.500740     purchase       -1      0.0  "
      ]
     },
     "execution_count": 20,
     "metadata": {},
     "output_type": "execute_result"
    }
   ],
   "source": [
    "#halted and purchased data\n",
    "df_halts_purchase.head(3)"
   ]
  },
  {
   "cell_type": "code",
   "execution_count": 21,
   "metadata": {},
   "outputs": [
    {
     "data": {
      "text/plain": [
       "979.98"
      ]
     },
     "execution_count": 21,
     "metadata": {},
     "output_type": "execute_result"
    }
   ],
   "source": [
    "#use 99% quantile to set x-axis limit for better visualization\n",
    "df_delivers_purchase['total_y'].quantile(0.99)"
   ]
  },
  {
   "cell_type": "code",
   "execution_count": 22,
   "metadata": {},
   "outputs": [],
   "source": [
    "#set xlim from lowest to .99 percentile, in order to exclude outlier\n",
    "xlim = [min(min(df_delivers_purchase['total_y']),min(df_halts_purchase['total_y'])),max(df_delivers_purchase['total_y'].quantile(0.99),df_halts_purchase['total_y'].quantile(0.99))]"
   ]
  },
  {
   "cell_type": "code",
   "execution_count": 23,
   "metadata": {},
   "outputs": [],
   "source": [
    "# decided not to remove price of 0 and negative, assuming they are true reflections of purchase price"
   ]
  },
  {
   "cell_type": "code",
   "execution_count": 24,
   "metadata": {},
   "outputs": [
    {
     "data": {
      "image/png": "[encoded data removed]",
      "text/plain": [
       "<Figure size 720x360 with 2 Axes>"
      ]
     },
     "metadata": {
      "needs_background": "light"
     },
     "output_type": "display_data"
    }
   ],
   "source": [
    "#action distribution\n",
    "\n",
    "fig, (ax1,ax2) = plt.subplots(ncols=2, figsize=(10, 5))\n",
    "#ax1 = plt.subplot(1, 5, 1,figsize(20,20))\n",
    "\n",
    "ax1.hist(df_delivers_purchase['total_y'],bins = 100,facecolor='g')\n",
    "ax1.set_xlim(xlim)\n",
    "ax1.set_xlabel('Purchase Price')\n",
    "ax1.set_ylabel('Occurances')\n",
    "ax1.set_title('Delivered Price Up To 99 percentile', fontsize= 12)\n",
    "\n",
    "\n",
    "#ax2 = plt.subplot(1, 5, 5)\n",
    "\n",
    "ax2.hist(df_halts_purchase['total_y'],bins = 100,facecolor='r')\n",
    "\n",
    "ax2.set_xlabel('Purchase Price')\n",
    "ax2.set_ylabel('Occurances')\n",
    "ax2.set_title('Halted Price Up To 99 percentile',fontsize=12)\n",
    "ax2.set_xlim(xlim)\n",
    "\n",
    "plt.tight_layout()\n",
    "plt.show()\n",
    "#negative purchase price meaning? (discounts? rewards?)\n",
    "# 0 pruchase price meaning? (gift?)"
   ]
  },
  {
   "cell_type": "code",
   "execution_count": 25,
   "metadata": {},
   "outputs": [
    {
     "data": {
      "text/plain": [
       "['abandoned_search', 'price_decrease_customer', 'welcome', 'window_shopping']"
      ]
     },
     "execution_count": 25,
     "metadata": {},
     "output_type": "execute_result"
    }
   ],
   "source": [
    "sorted(df_delivers_purchase.action_x.unique())"
   ]
  },
  {
   "cell_type": "code",
   "execution_count": 26,
   "metadata": {},
   "outputs": [
    {
     "data": {
      "image/png": "[encoded data removed]",
      "text/plain": [
       "<Figure size 720x360 with 1 Axes>"
      ]
     },
     "metadata": {
      "needs_background": "light"
     },
     "output_type": "display_data"
    },
    {
     "data": {
      "image/png": "[encoded data removed]",
      "text/plain": [
       "<Figure size 720x360 with 1 Axes>"
      ]
     },
     "metadata": {
      "needs_background": "light"
     },
     "output_type": "display_data"
    }
   ],
   "source": [
    "#action distrubition that led to Purchase shows similar mean. However, delivered email for welcome and price decrease action show \n",
    "# higher purchased price occurances where customers with halted emails did not show similar purchase behavior\n",
    "from pylab import rcParams\n",
    "rcParams['figure.figsize'] = 10, 5\n",
    "#remove someoutliers for better visualization\n",
    "plot_df = df_delivers_purchase.loc[(df_delivers_purchase.total_y - df_delivers_purchase.total_y.mean()).abs() / df_delivers_purchase.total_y.std() < 3]\n",
    "ax = sns.boxplot(x=\"action_x\", y=\"total_y\",  data=plot_df, color='g', order = sorted(plot_df.action_x.unique()))\n",
    "ax.set_title('Delivered Action and Price Distribution')\n",
    "ax.set_ylabel('$ Spent ')\n",
    "ax.set_xlabel('Action')\n",
    "\n",
    "plt.show()\n",
    "\n",
    "#remove someoutliers for better visualization\n",
    "halts_df = df_halts_purchase.loc[(df_halts_purchase.total_y - df_halts_purchase.total_y.mean()).abs() / df_halts_purchase.total_y.std() < 3]\n",
    "ax = sns.boxplot(x=\"action_x\", y=\"total_y\",  data=halts_df, color='r', order = sorted(halts_df.action_x.unique()))\n",
    "ax.set_title('Halted Action and Price Distribution')\n",
    "ax.set_ylabel('$ Spent ')\n",
    "ax.set_xlabel('Action')\n",
    "\n",
    "plt.show()\n"
   ]
  },
  {
   "cell_type": "markdown",
   "metadata": {},
   "source": [
    "### Metric Calculation"
   ]
  },
  {
   "cell_type": "code",
   "execution_count": 27,
   "metadata": {
    "scrolled": true
   },
   "outputs": [
    {
     "data": {
      "text/html": [
       "<div>\n",
       "<style scoped>\n",
       "    .dataframe tbody tr th:only-of-type {\n",
       "        vertical-align: middle;\n",
       "    }\n",
       "\n",
       "    .dataframe tbody tr th {\n",
       "        vertical-align: top;\n",
       "    }\n",
       "\n",
       "    .dataframe thead th {\n",
       "        text-align: right;\n",
       "    }\n",
       "</style>\n",
       "<table border=\"1\" class=\"dataframe\">\n",
       "  <thead>\n",
       "    <tr style=\"text-align: right;\">\n",
       "      <th></th>\n",
       "      <th>email</th>\n",
       "      <th>event_date_x</th>\n",
       "      <th>event_type_x</th>\n",
       "      <th>action_x</th>\n",
       "      <th>total_x</th>\n",
       "      <th>event_date_y</th>\n",
       "      <th>event_type_y</th>\n",
       "      <th>action_y</th>\n",
       "      <th>total_y</th>\n",
       "    </tr>\n",
       "  </thead>\n",
       "  <tbody>\n",
       "    <tr>\n",
       "      <th>0</th>\n",
       "      <td>6153409711308800</td>\n",
       "      <td>2015-10-01 01:55:10.790190</td>\n",
       "      <td>halted</td>\n",
       "      <td>abandoned_search</td>\n",
       "      <td>-1.0</td>\n",
       "      <td>2015-10-04 21:16:03.500740</td>\n",
       "      <td>purchase</td>\n",
       "      <td>-1</td>\n",
       "      <td>0.0</td>\n",
       "    </tr>\n",
       "    <tr>\n",
       "      <th>1</th>\n",
       "      <td>6153409711308800</td>\n",
       "      <td>2015-10-02 02:35:17.144730</td>\n",
       "      <td>halted</td>\n",
       "      <td>window_shopping</td>\n",
       "      <td>-1.0</td>\n",
       "      <td>2015-10-04 21:16:03.500740</td>\n",
       "      <td>purchase</td>\n",
       "      <td>-1</td>\n",
       "      <td>0.0</td>\n",
       "    </tr>\n",
       "    <tr>\n",
       "      <th>2</th>\n",
       "      <td>6153409711308800</td>\n",
       "      <td>2015-10-02 00:56:56.288340</td>\n",
       "      <td>halted</td>\n",
       "      <td>abandoned_search</td>\n",
       "      <td>-1.0</td>\n",
       "      <td>2015-10-04 21:16:03.500740</td>\n",
       "      <td>purchase</td>\n",
       "      <td>-1</td>\n",
       "      <td>0.0</td>\n",
       "    </tr>\n",
       "    <tr>\n",
       "      <th>3</th>\n",
       "      <td>6153409711308800</td>\n",
       "      <td>2015-10-05 20:52:37.368400</td>\n",
       "      <td>halted</td>\n",
       "      <td>abandoned_search</td>\n",
       "      <td>-1.0</td>\n",
       "      <td>2015-10-04 21:16:03.500740</td>\n",
       "      <td>purchase</td>\n",
       "      <td>-1</td>\n",
       "      <td>0.0</td>\n",
       "    </tr>\n",
       "    <tr>\n",
       "      <th>4</th>\n",
       "      <td>6153409711308800</td>\n",
       "      <td>2015-10-06 05:55:19.821750</td>\n",
       "      <td>halted</td>\n",
       "      <td>abandoned_search</td>\n",
       "      <td>-1.0</td>\n",
       "      <td>2015-10-04 21:16:03.500740</td>\n",
       "      <td>purchase</td>\n",
       "      <td>-1</td>\n",
       "      <td>0.0</td>\n",
       "    </tr>\n",
       "  </tbody>\n",
       "</table>\n",
       "</div>"
      ],
      "text/plain": [
       "              email               event_date_x event_type_x          action_x  \\\n",
       "0  6153409711308800 2015-10-01 01:55:10.790190       halted  abandoned_search   \n",
       "1  6153409711308800 2015-10-02 02:35:17.144730       halted   window_shopping   \n",
       "2  6153409711308800 2015-10-02 00:56:56.288340       halted  abandoned_search   \n",
       "3  6153409711308800 2015-10-05 20:52:37.368400       halted  abandoned_search   \n",
       "4  6153409711308800 2015-10-06 05:55:19.821750       halted  abandoned_search   \n",
       "\n",
       "   total_x               event_date_y event_type_y action_y  total_y  \n",
       "0     -1.0 2015-10-04 21:16:03.500740     purchase       -1      0.0  \n",
       "1     -1.0 2015-10-04 21:16:03.500740     purchase       -1      0.0  \n",
       "2     -1.0 2015-10-04 21:16:03.500740     purchase       -1      0.0  \n",
       "3     -1.0 2015-10-04 21:16:03.500740     purchase       -1      0.0  \n",
       "4     -1.0 2015-10-04 21:16:03.500740     purchase       -1      0.0  "
      ]
     },
     "execution_count": 27,
     "metadata": {},
     "output_type": "execute_result"
    }
   ],
   "source": [
    "df_delivers_purchase.head(5)\n",
    "df_halts_purchase.head(5)"
   ]
  },
  {
   "cell_type": "code",
   "execution_count": 28,
   "metadata": {},
   "outputs": [],
   "source": [
    "#consider only when the email was delivered/halted 5 days before the end of the months\n",
    "#in order to measure how customers engage with emails within the first 5 days\n",
    "df_delivers_purchase = df_delivers_purchase[df_delivers_purchase.event_date_x.dt.day <max(df_delivers_purchase.event_date_x.dt.day) - 5 ]\n",
    "\n",
    "df_halts_purchase = df_halts_purchase[df_halts_purchase.event_date_x.dt.day <max(df_halts_purchase.event_date_x.dt.day) - 5 ]"
   ]
  },
  {
   "cell_type": "code",
   "execution_count": 29,
   "metadata": {},
   "outputs": [],
   "source": [
    "# there are users who purchased before the email being delivered\n",
    "delivers_min_date = df_delivers_purchase.groupby(['email'])[['event_date_x','event_date_y']].min().reset_index()\n",
    "delivers_min_date['purchased_before_delivers'] = (delivers_min_date['event_date_y'] - delivers_min_date['event_date_x']).dt.days <0\n",
    "\n",
    "halts_min_date = df_halts_purchase.groupby(['email'])[['event_date_x','event_date_y']].min().reset_index()\n",
    "halts_min_date['purchased_before_halts'] = (halts_min_date['event_date_y'] - halts_min_date['event_date_x']).dt.days <0"
   ]
  },
  {
   "cell_type": "code",
   "execution_count": 30,
   "metadata": {},
   "outputs": [
    {
     "data": {
      "text/html": [
       "<div>\n",
       "<style scoped>\n",
       "    .dataframe tbody tr th:only-of-type {\n",
       "        vertical-align: middle;\n",
       "    }\n",
       "\n",
       "    .dataframe tbody tr th {\n",
       "        vertical-align: top;\n",
       "    }\n",
       "\n",
       "    .dataframe thead th {\n",
       "        text-align: right;\n",
       "    }\n",
       "</style>\n",
       "<table border=\"1\" class=\"dataframe\">\n",
       "  <thead>\n",
       "    <tr style=\"text-align: right;\">\n",
       "      <th></th>\n",
       "      <th>email</th>\n",
       "      <th>event_date_x</th>\n",
       "      <th>event_date_y</th>\n",
       "      <th>purchased_before_delivers</th>\n",
       "    </tr>\n",
       "  </thead>\n",
       "  <tbody>\n",
       "    <tr>\n",
       "      <th>0</th>\n",
       "      <td>4503652861476864</td>\n",
       "      <td>2015-10-06 02:07:07.544790</td>\n",
       "      <td>2015-10-04 01:33:41.488880</td>\n",
       "      <td>True</td>\n",
       "    </tr>\n",
       "    <tr>\n",
       "      <th>1</th>\n",
       "      <td>4503801958498304</td>\n",
       "      <td>2015-10-02 20:14:28.695440</td>\n",
       "      <td>2015-10-12 15:24:01.467610</td>\n",
       "      <td>False</td>\n",
       "    </tr>\n",
       "    <tr>\n",
       "      <th>2</th>\n",
       "      <td>4503866938753024</td>\n",
       "      <td>2015-10-08 05:54:37.014260</td>\n",
       "      <td>2015-10-07 04:49:19.156170</td>\n",
       "      <td>True</td>\n",
       "    </tr>\n",
       "  </tbody>\n",
       "</table>\n",
       "</div>"
      ],
      "text/plain": [
       "              email               event_date_x               event_date_y  \\\n",
       "0  4503652861476864 2015-10-06 02:07:07.544790 2015-10-04 01:33:41.488880   \n",
       "1  4503801958498304 2015-10-02 20:14:28.695440 2015-10-12 15:24:01.467610   \n",
       "2  4503866938753024 2015-10-08 05:54:37.014260 2015-10-07 04:49:19.156170   \n",
       "\n",
       "   purchased_before_delivers  \n",
       "0                       True  \n",
       "1                      False  \n",
       "2                       True  "
      ]
     },
     "execution_count": 30,
     "metadata": {},
     "output_type": "execute_result"
    }
   ],
   "source": [
    "#some users purchased before the email was delivered\n",
    "delivers_min_date.head(3)"
   ]
  },
  {
   "cell_type": "code",
   "execution_count": 31,
   "metadata": {},
   "outputs": [
    {
     "data": {
      "text/html": [
       "<div>\n",
       "<style scoped>\n",
       "    .dataframe tbody tr th:only-of-type {\n",
       "        vertical-align: middle;\n",
       "    }\n",
       "\n",
       "    .dataframe tbody tr th {\n",
       "        vertical-align: top;\n",
       "    }\n",
       "\n",
       "    .dataframe thead th {\n",
       "        text-align: right;\n",
       "    }\n",
       "</style>\n",
       "<table border=\"1\" class=\"dataframe\">\n",
       "  <thead>\n",
       "    <tr style=\"text-align: right;\">\n",
       "      <th></th>\n",
       "      <th>email</th>\n",
       "      <th>event_date_x</th>\n",
       "      <th>event_date_y</th>\n",
       "      <th>purchased_before_halts</th>\n",
       "    </tr>\n",
       "  </thead>\n",
       "  <tbody>\n",
       "    <tr>\n",
       "      <th>0</th>\n",
       "      <td>4506671300739072</td>\n",
       "      <td>2015-10-02 23:33:59.550590</td>\n",
       "      <td>2015-10-01 04:17:19.845760</td>\n",
       "      <td>True</td>\n",
       "    </tr>\n",
       "    <tr>\n",
       "      <th>1</th>\n",
       "      <td>4511486881824768</td>\n",
       "      <td>2015-10-02 20:41:49.189410</td>\n",
       "      <td>2015-10-01 17:48:38.959030</td>\n",
       "      <td>True</td>\n",
       "    </tr>\n",
       "    <tr>\n",
       "      <th>2</th>\n",
       "      <td>4515468568166400</td>\n",
       "      <td>2015-10-15 04:17:12.278070</td>\n",
       "      <td>2015-10-15 14:18:08.729410</td>\n",
       "      <td>False</td>\n",
       "    </tr>\n",
       "  </tbody>\n",
       "</table>\n",
       "</div>"
      ],
      "text/plain": [
       "              email               event_date_x               event_date_y  \\\n",
       "0  4506671300739072 2015-10-02 23:33:59.550590 2015-10-01 04:17:19.845760   \n",
       "1  4511486881824768 2015-10-02 20:41:49.189410 2015-10-01 17:48:38.959030   \n",
       "2  4515468568166400 2015-10-15 04:17:12.278070 2015-10-15 14:18:08.729410   \n",
       "\n",
       "   purchased_before_halts  \n",
       "0                    True  \n",
       "1                    True  \n",
       "2                   False  "
      ]
     },
     "execution_count": 31,
     "metadata": {},
     "output_type": "execute_result"
    }
   ],
   "source": [
    "#some users purchased before the email was halted\n",
    "halts_min_date.head(3)"
   ]
  },
  {
   "cell_type": "code",
   "execution_count": 32,
   "metadata": {},
   "outputs": [
    {
     "name": "stdout",
     "output_type": "stream",
     "text": [
      "proportion of users who purchased before email being delivered:  0.25254487856388597\n",
      "proportion of users who purchased before email being halted:  0.2123125493291239\n"
     ]
    }
   ],
   "source": [
    "print('proportion of users who purchased before email being delivered: ', delivers_min_date.purchased_before_delivers.sum()/delivers_min_date.shape[0])\n",
    "print('proportion of users who purchased before email being halted: ', halts_min_date.purchased_before_halts.sum()/halts_min_date.shape[0])"
   ]
  },
  {
   "cell_type": "code",
   "execution_count": 33,
   "metadata": {},
   "outputs": [],
   "source": [
    "#remove users who purchased before the email was delivered/halted\n",
    "#df_delivers_purchase\n",
    "delivers_before_purchase_email = delivers_min_date[delivers_min_date['purchased_before_delivers'] == False].reset_index(drop=True)['email']\n",
    "df_delivers_purchase = df_delivers_purchase[df_delivers_purchase['email'].isin(delivers_before_purchase_email)].reset_index(drop = True)\n",
    "\n",
    "#df_halts_purchase\n",
    "halts_before_purchase_email = halts_min_date[halts_min_date['purchased_before_halts'] == False].reset_index(drop=True)['email']\n",
    "df_halts_purchase = df_halts_purchase[df_halts_purchase['email'].isin(halts_before_purchase_email)].reset_index(drop = True)"
   ]
  },
  {
   "cell_type": "code",
   "execution_count": 34,
   "metadata": {},
   "outputs": [
    {
     "name": "stdout",
     "output_type": "stream",
     "text": [
      "0.034948848599755104\n",
      "0.0349807220469681\n"
     ]
    }
   ],
   "source": [
    "#sanity check: proportion of users who purchased after email was sent/delivered\n",
    "#observation: they are similar, indicating the email campaign might not be effective\n",
    "\n",
    "print(df_delivers_purchase.email.nunique()/df_delivers.email.nunique())\n",
    "print(df_halts_purchase.email.nunique()/df_halts.email.nunique())"
   ]
  },
  {
   "cell_type": "markdown",
   "metadata": {},
   "source": [
    "#####  purchase-conversions rate"
   ]
  },
  {
   "cell_type": "code",
   "execution_count": 35,
   "metadata": {
    "scrolled": true
   },
   "outputs": [
    {
     "name": "stdout",
     "output_type": "stream",
     "text": [
      "delivered purchase conversion rate:  0.03452818264407315\n",
      "halted purchase conversion rate:  0.04230634419908868\n",
      "lift purchase convertion rate:  -0.1838533133095219\n"
     ]
    }
   ],
   "source": [
    "# purchase-conversions rate: the number of purchases made within 5 days after an email was delivered/halted per customer.\n",
    "# number of purchases within 5 days/number of users\n",
    "def pcr(df_delivers_purchase,df_delivers):\n",
    "    delivers_delta = df_delivers_purchase['event_date_y']- df_delivers_purchase['event_date_x']\n",
    "    # find number of puchases made within 5 days of in each BC and control\n",
    "    delivers_number_of_purchase = df_delivers_purchase[(delivers_delta.dt.days <= 5) & (delivers_delta.dt.days>=0)] \\\n",
    "    [['email','event_date_y']].groupby(['email','event_date_y']).count().reset_index().shape[0]\n",
    "    # number of cusomters in each BC and control\n",
    "    delivers_number_of_customer = df_delivers['email'].nunique()\n",
    "    #purchase conversion rate\n",
    "    delivered_purchase_conversion_rate = delivers_number_of_purchase/delivers_number_of_customer\n",
    "\n",
    "    return(delivered_purchase_conversion_rate)\n",
    "\n",
    "#delivered\n",
    "delivered_pcr = pcr(df_delivers_purchase,df_delivers)\n",
    "print('delivered purchase conversion rate: ', delivered_pcr)\n",
    "\n",
    "#halted\n",
    "halted_pcr = pcr(df_halts_purchase,df_halts)\n",
    "print('halted purchase conversion rate: ',halted_pcr)\n",
    "\n",
    "#lift:( BC cohort metric - control_cohort metric) / control_cohort metric\n",
    "lift_pcr = (delivered_pcr - halted_pcr)/halted_pcr\n",
    "print('lift purchase convertion rate: ', lift_pcr)\n",
    "\n"
   ]
  },
  {
   "cell_type": "markdown",
   "metadata": {},
   "source": [
    "#####  customer-conversions rate"
   ]
  },
  {
   "cell_type": "code",
   "execution_count": 36,
   "metadata": {},
   "outputs": [
    {
     "name": "stdout",
     "output_type": "stream",
     "text": [
      "delivered customer conversion rate:  0.024858790536003476\n",
      "halted customer conversion rate:  0.02828601472134595\n",
      "lift customer convertion rate:  -0.12116320447065772\n"
     ]
    }
   ],
   "source": [
    "#customer-conversions rate: the proportion of customers that have made at least one purchase in the 5 days after an email was delivered/halted.\n",
    "#number of customers who made one purchase within 5 days/ all users\n",
    "def ccr(df_delivers_purchase, df_delivers):\n",
    "    delivers_delta = df_delivers_purchase['event_date_y']- df_delivers_purchase['event_date_x']\n",
    "    # find number of unique customers made purchase(s) within 5 days of in each BC and control\n",
    "    delivers_number_of_customers_purchased = df_delivers_purchase[(delivers_delta.dt.days <= 5) & (delivers_delta.dt.days>=0)]['email'].nunique()\n",
    "    #find number of users in each BC and control\n",
    "    original_delivers_customers = df_delivers['email'].nunique()\n",
    "    #customer conversion rate\n",
    "    delivers_customer_conversion_rate = delivers_number_of_customers_purchased/original_delivers_customers\n",
    "    return(delivers_customer_conversion_rate)\n",
    "\n",
    "#delivered\n",
    "delivered_ccr = ccr(df_delivers_purchase, df_delivers)\n",
    "print('delivered customer conversion rate: ',delivered_ccr)\n",
    "\n",
    "#halted\n",
    "halted_ccr = ccr(df_halts_purchase, df_halts)\n",
    "print('halted customer conversion rate: ',halted_ccr)\n",
    "\n",
    "#lift:( BC cohort metric - control_cohort metric) / control_cohort metric\n",
    "lift_ccr = (delivered_ccr - halted_ccr)/halted_ccr\n",
    "print('lift customer convertion rate: ', lift_ccr)\n"
   ]
  },
  {
   "cell_type": "markdown",
   "metadata": {},
   "source": [
    "#####  email-conversions rate"
   ]
  },
  {
   "cell_type": "code",
   "execution_count": 37,
   "metadata": {
    "scrolled": true
   },
   "outputs": [
    {
     "name": "stdout",
     "output_type": "stream",
     "text": [
      "delivered email conversion rate:  0.011847825984644043\n",
      "halted email conversion rate:  0.007556179775280899\n",
      "lift email convertion rate:  0.5679650745476874\n"
     ]
    }
   ],
   "source": [
    "# email conversion rate:the proportion of emails that have at least one purchase made in the 5 days after an email was delivered/halted\n",
    "# how many emails contribute to one purchase\n",
    "# number of customers who purchased within 5 days/ number of emails sent\n",
    "def ecr(df_delivers_purchase,df_delivers):\n",
    "    delivers_delta = df_delivers_purchase['event_date_y']- df_delivers_purchase['event_date_x']\n",
    "    # find number of customers made purchase(s) within 5 days of in each BC and control\n",
    "    delivers_number_of_email_purchased = df_delivers_purchase[(delivers_delta.dt.days <= 5) & (delivers_delta.dt.days>=0)]['email'].nunique()\n",
    "    # number of emails sent in each BC and control\n",
    "    original_delivers_email = df_delivers.shape[0]\n",
    "    # email conversion rate\n",
    "    delivered_email_conversions_rate = delivers_number_of_email_purchased/original_delivers_email\n",
    "    return(delivered_email_conversions_rate)\n",
    "\n",
    "#delivered\n",
    "delivered_ecr = ecr(df_delivers_purchase,df_delivers)\n",
    "print('delivered email conversion rate: ', delivered_ecr)\n",
    "\n",
    "#halted\n",
    "halted_ecr = ecr(df_halts_purchase,df_halts)\n",
    "print('halted email conversion rate: ', halted_ecr)\n",
    "\n",
    "#lift:( BC cohort metric - control_cohort metric) / control_cohort metric\n",
    "lift_ecr = (delivered_ecr - halted_ecr)/halted_ecr\n",
    "print('lift email convertion rate: ', lift_ecr)"
   ]
  },
  {
   "cell_type": "markdown",
   "metadata": {},
   "source": [
    "#####  attributed revenue per email"
   ]
  },
  {
   "cell_type": "code",
   "execution_count": 38,
   "metadata": {},
   "outputs": [
    {
     "name": "stdout",
     "output_type": "stream",
     "text": [
      "delivered attributed revenue per email:  4.82249258186199\n",
      "halted attributed revenue per email:  6.18784402383456\n",
      "lift attributed revenue per email:  -0.22065059117738914\n"
     ]
    }
   ],
   "source": [
    "#attributed revenue per email: total revenue per email/halt that occurs 5 days after an email is delivered or, in the case of the control group, halted.  \n",
    "def are(df_delivers_purchase, df_delivers):\n",
    "    # total revenue within 5 days/ number of emails sent\n",
    "    delivers_delta = df_delivers_purchase['event_date_y']- df_delivers_purchase['event_date_x']\n",
    "    delivers_revenue = df_delivers_purchase[(delivers_delta.dt.days <= 5) & (delivers_delta.dt.days>=0)][['email','event_date_y','total_y']]\\\n",
    "    .drop_duplicates().sum()['total_y']\n",
    "    # number of email in each BC and control\n",
    "    original_delivers_email = df_delivers['email'].nunique()\n",
    "    #revenue per email\n",
    "    delivered_email_conversions_rate = delivers_revenue/original_delivers_email\n",
    "    return(delivered_email_conversions_rate)\n",
    "\n",
    "#delivered\n",
    "delivered_are = are(df_delivers_purchase,df_delivers)\n",
    "print('delivered attributed revenue per email: ', delivered_are)\n",
    "\n",
    "#halted\n",
    "halted_are = are(df_halts_purchase,df_halts)\n",
    "print('halted attributed revenue per email: ', halted_are)\n",
    "\n",
    "#lift:( BC cohort metric - control_cohort metric) / control_cohort metric\n",
    "lift_are = (delivered_are - halted_are)/halted_are\n",
    "print('lift attributed revenue per email: ', lift_are)\n",
    "\n",
    "\n"
   ]
  },
  {
   "cell_type": "code",
   "execution_count": null,
   "metadata": {},
   "outputs": [],
   "source": []
  },
  {
   "cell_type": "code",
   "execution_count": null,
   "metadata": {},
   "outputs": [],
   "source": []
  },
  {
   "cell_type": "code",
   "execution_count": null,
   "metadata": {},
   "outputs": [],
   "source": []
  }
 ],
 "metadata": {
  "kernelspec": {
   "display_name": "Python 3",
   "language": "python",
   "name": "python3"
  },
  "language_info": {
   "codemirror_mode": {
    "name": "ipython",
    "version": 3
   },
   "file_extension": ".py",
   "mimetype": "text/x-python",
   "name": "python",
   "nbconvert_exporter": "python",
   "pygments_lexer": "ipython3",
   "version": "3.7.0"
  }
 },
 "nbformat": 4,
 "nbformat_minor": 2
}
