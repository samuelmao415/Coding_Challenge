{
 "cells": [
  {
   "cell_type": "markdown",
   "metadata": {},
   "source": [
    "**task 1**\n",
    "\n",
    "**findings:**\n",
    "- users who stayed tend to have short connection time\n",
    "- there were users who paid but never matched\n",
    "- more organic than inorgan users, and organic users are relatively less likely to churn\n",
    "- inorganic users are more likely to churn, but the churn rate is not too bad, showing stickiness to the app\n",
    "- application platform does not affect user churn, meaning neither desktop or mobile is affecting churn\n",
    "- in general, therapist replied more words than clients, but simply more words from therapist do not determine if a user would churn\n",
    "\n",
    "**recommendations:**\n",
    "- increase connection time, either through hiring more therapist or find a way to engage client better\n",
    "- inorganic users are sticky, meaning the app is delivering users' expectation\n",
    "- mobile platform is the top choice for users, continuous investment is needed\n",
    "\n",
    "**next steps:**\n",
    "- figure out why there were users never matched (is it a database problem?)\n",
    "- dive deeper into each acquisition channel to see if there is one that is more likely to make a user churn\n",
    "- analyze the content of the conversation through NLP rather than simply counting the number of words being exchanged\n",
    "- observe the time and date of the observation, and see if that makes a difference\n",
    "- differentiate user churn during different app updates/versions\n",
    "- tune the current decision trees with more features and build other predictive models\n",
    "- more data to build a user profile: occupation, income level, ethnicity, location, hobby, etc."
   ]
  },
  {
   "cell_type": "markdown",
   "metadata": {},
   "source": [
    "**task2**\n",
    "\n",
    "**building predictive model to identify likelihood to purchase subscription:**\n",
    "\n",
    "- method: \n",
    "    - identify current users who purchased subscription\n",
    "    - capture their jounery between signing up and purchasing subscription, with features such as:\n",
    "        - current data:\n",
    "            - length took before being matched\n",
    "            - timespent on the app before purchasing subscription\n",
    "        - other data needed:\n",
    "            - the therapist matched\n",
    "            - time of the day when they signed up for the app \n",
    "            - do they click certain features more when they first started using the app\n",
    "    - run predictive modeling:\n",
    "        - bayesian networks: understand which feature(s) drives subcription probability\n",
    "        - tree-based model: understand which feature(s) play an important role in driving subscription\n",
    "        - GLM: understand which feature(s) could help explain subscription\n",
    "    - a/b testing:\n",
    "        - use model that gave good predictive power and explanability for business users\n",
    "        - run a/b testing by nudging the users towards features that the model thinks are driving subscription\n",
    "     - conclusion and repeat:\n",
    "         - analyze if the model chosen above is helping subscription\n",
    "         - if failed, think of ways for obtaining more data, include surveys for current users (user research)"
   ]
  },
  {
   "cell_type": "code",
   "execution_count": 15,
   "metadata": {
    "collapsed": true,
    "scrolled": true
   },
   "outputs": [],
   "source": [
    "#import all packages \n",
    "import sqlite3\n",
    "import pandas as pd\n",
    "import numpy as np\n",
    "from sklearn import tree\n",
    "from sklearn.metrics import accuracy_score, f1_score\n",
    "from sklearn.model_selection import train_test_split"
   ]
  },
  {
   "cell_type": "markdown",
   "metadata": {},
   "source": [
    "**Load Files**"
   ]
  },
  {
   "cell_type": "code",
   "execution_count": 2,
   "metadata": {
    "scrolled": true
   },
   "outputs": [],
   "source": [
    "#read files from database\n",
    "db_name = \"TS_datascience_exercise_data.db\"\n",
    "\n",
    "client_info_query = 'SELECT * FROM client_info;'\n",
    "client_info_columns = ['client_id', 'presenting_issue_id', 'gender', 'age_range', 'marketing_source']\n",
    "\n",
    "client_lifecycle_query = 'SELECT * FROM client_lifecycle;'\n",
    "client_lifecycle_columns = ['client_id', 'lead_capture_date', 'purchase_date', 'match_date', 'cancelation_date']\n",
    "\n",
    "client_activity_query = 'SELECT * FROM client_activity;'\n",
    "client_activity_columns = ['message_id', 'client_id', 'send_time', 'sender_type', 'message_type', 'word_count', 'device_type']\n",
    "\n",
    "#establish database connection\n",
    "def create_tb_from_db(db_name, query, column_names):\n",
    "    connection = sqlite3.connect(db_name)\n",
    "    cursor = connection.cursor()\n",
    "    data = cursor.execute(query).fetchall()  \n",
    "    df = pd.DataFrame(list(data), columns=column_names)\n",
    "    connection.close() \n",
    "    return(df)\n",
    "\n",
    "#create tables from database\n",
    "client_info_tb = create_tb_from_db(db_name, client_info_query, client_info_columns)\n",
    "client_lifecycle_tb = create_tb_from_db(db_name, client_lifecycle_query, client_lifecycle_columns)\n",
    "client_activity_tb = create_tb_from_db(db_name, client_activity_query, client_activity_columns)"
   ]
  },
  {
   "cell_type": "markdown",
   "metadata": {},
   "source": [
    "**EDA**"
   ]
  },
  {
   "cell_type": "code",
   "execution_count": 3,
   "metadata": {
    "scrolled": false
   },
   "outputs": [
    {
     "name": "stdout",
     "output_type": "stream",
     "text": [
      "info_table:    client_id  presenting_issue_id gender age_range  marketing_source\n",
      "0   11429734                  NaN   None      None       Paid Social\n",
      "1   11429773                  NaN   None      None  Organic (Direct)\n",
      "lifecyle_table:    client_id    lead_capture_date purchase_date match_date cancelation_date\n",
      "0   11429734  2018-05-31 09:46:12          None       None             None\n",
      "1   11429773  2018-05-31 07:43:38          None       None             None\n",
      "activity_table:    message_id  client_id            send_time sender_type message_type  \\\n",
      "0    33830737   11429734  2018-06-01 01:05:37   therapist         chat   \n",
      "1    33831102   11429773  2018-06-01 01:13:56      client         chat   \n",
      "\n",
      "   word_count device_type  \n",
      "0        93.0      mobile  \n",
      "1         2.0         web  \n",
      "last_activity: 2019-04-30 23:52:05\n",
      "last_activity: 2018-06-01 01:05:37\n",
      "number of total paid users:  4089\n",
      "number of users who stayed:  1334\n",
      "number of users who left:  2755\n"
     ]
    }
   ],
   "source": [
    "#data overview\n",
    "print('info_table:', client_info_tb.head(2))\n",
    "print('lifecyle_table:', client_lifecycle_tb.head(2))\n",
    "print('activity_table:', client_activity_tb.head(2))\n",
    "\n",
    "#understand the time scope of the data\n",
    "print('last_activity:', max(client_activity_tb.send_time)) #2019-04-30\n",
    "print('last_activity:', min(client_activity_tb.send_time)) #2018-06-01\n",
    "\n",
    "###identify churn: clients whose cancelation date is None and have purchase date\n",
    "#change string into datetime\n",
    "client_lifecycle_tb.iloc[:, 1:] = client_lifecycle_tb.iloc[:, 1:].apply(pd.to_datetime, errors='coerce')\n",
    "\n",
    "#elimate non-paid users, and retain only users who ever paid\n",
    "paid_users = client_lifecycle_tb[client_lifecycle_tb['purchase_date'].notnull()].reset_index(drop = True)\n",
    "print('number of total paid users: ', paid_users.shape[0]) # 4089 users\n",
    "\n",
    "#users who paid and stayed\n",
    "stayed_users = paid_users[paid_users['cancelation_date'].isnull()].reset_index(drop = True)\n",
    "stayed_users['churned']=0 #new column with value 0 for users who stayed\n",
    "print('number of users who stayed: ',stayed_users.shape[0]) #1334 users\n",
    "\n",
    "#users who paid and churned\n",
    "churned_users = paid_users[paid_users['cancelation_date'].notnull()].reset_index(drop = True)\n",
    "churned_users['churned']=1 #new column with value 1 for users who left\n",
    "print('number of users who left: ',churned_users.shape[0]) #2755 users"
   ]
  },
  {
   "cell_type": "markdown",
   "metadata": {},
   "source": [
    "**churned users**"
   ]
  },
  {
   "cell_type": "code",
   "execution_count": 4,
   "metadata": {
    "scrolled": true
   },
   "outputs": [],
   "source": [
    "#identify churned users:\n",
    "user_tbl = pd.concat([churned_users, stayed_users]).reset_index(drop=True) #table with users for analytics\n",
    "user_tbl.head()"
   ]
  },
  {
   "cell_type": "markdown",
   "metadata": {},
   "source": [
    "**Identify potential features to be used for preliminary descriptive analysis:**\n",
    "\n",
    "1. marketing source from client_info_db: inorganic might have higher churn\n",
    "2. time difference between purchase date and match date from user_tbl: long lapse between matching could lead to churn \\\n",
    "3. word_count difference from client_activity_tb: shorter words reply from therapist could lead to churn\n",
    "4. device_type from client_activity_tb: some platform might have worse experience that could lead to churn\n",
    "\n",
    " \n",
    "**Future descriptive analysis:**\n",
    "1. exchange frequency between client and therapist\n",
    "2. dive deeper into each acquisition channel to see if how effective each channel is\n",
    "3. check each message_id with nlp to see if a paticular topic is effecting churn"
   ]
  },
  {
   "cell_type": "markdown",
   "metadata": {},
   "source": [
    "**time took to match users:**\n",
    "- conclusion: users who stayed tend to get connect faster than user who churned\n",
    "- business action: incrase connection time: hire more theapist or find ways to keep user engaged"
   ]
  },
  {
   "cell_type": "code",
   "execution_count": 6,
   "metadata": {
    "scrolled": true
   },
   "outputs": [
    {
     "name": "stdout",
     "output_type": "stream",
     "text": [
      "median time of churned users took to match: 0 days 08:27:28\n",
      "median time of stayed users took to match: 0 days 06:13:49\n"
     ]
    }
   ],
   "source": [
    "#time difference between purchase date and match date from user_tbl: \n",
    "user_tbl['time_between_matching'] =user_tbl.apply(lambda row: row['match_date'] - row['purchase_date'], axis=1)\n",
    "\n",
    "print('median time of churned users took to match: {}'.\\\n",
    "      format(user_tbl[user_tbl['churned'] == 1].time_between_matching.median()))\n",
    "\n",
    "print('median time of stayed users took to match: {}'.\\\n",
    "      format(user_tbl[user_tbl['churned'] == 0].time_between_matching.median()))\n",
    "\n",
    "#conclusion: users who stayed tend to get connect faster than user who churned\n",
    "#business action: incrase connection time: hire more theapist or find ways to keep user engaged"
   ]
  },
  {
   "cell_type": "markdown",
   "metadata": {},
   "source": [
    "**users who were never matched:**\n",
    "- conclusion: interesting finding that there are users who paid and stayed but never matched.\n",
    "- business action: Could be a database problem. If not, needs to dig deeper."
   ]
  },
  {
   "cell_type": "code",
   "execution_count": 7,
   "metadata": {
    "scrolled": true
   },
   "outputs": [
    {
     "name": "stdout",
     "output_type": "stream",
     "text": [
      "ratio of users who churned and were never matched: 0.025408348457350273\n",
      "ratio of users who stayed and were never matched: 0.043478260869565216\n"
     ]
    }
   ],
   "source": [
    "#ratio of users who churned and were never matched:\n",
    "print('ratio of users who churned and were never matched: {}'.\\\n",
    "      format(\n",
    "user_tbl[(user_tbl['churned'] == 1) & (user_tbl['time_between_matching'].isnull())].shape[0] / churned_users.shape[0]))\n",
    "\n",
    "#ratio of users who stayed and were never matched:\n",
    "print('ratio of users who stayed and were never matched: {}'.\\\n",
    "      format(\n",
    "user_tbl[(user_tbl['churned'] == 0) & (user_tbl['time_between_matching'].isnull())].shape[0] / stayed_users.shape[0]))\n",
    "\n",
    "#conclusion: interesting finding that there are users who paid and stayed but never matched. Could be a database problem. If not, dig deeper."
   ]
  },
  {
   "cell_type": "markdown",
   "metadata": {},
   "source": [
    "**organic vs inorganic user:**\n",
    "- conclusion: there are more organic user than inorganic users, and churned users have higher ratio to be inorganic\n",
    "- business action: seek ways to increase organic growing, but the number also shows inorganic users who relatively sticky"
   ]
  },
  {
   "cell_type": "code",
   "execution_count": 8,
   "metadata": {
    "scrolled": true
   },
   "outputs": [
    {
     "name": "stdout",
     "output_type": "stream",
     "text": [
      "organic_users:  2359\n",
      "inorganic_users:  1730\n",
      "ratio of churned users who were inorganic:0.43920145190562615\n",
      "ratio of stayed users who were inorganic: 0.38980509745127434\n"
     ]
    }
   ],
   "source": [
    "#check distribution of acquisition channels\n",
    "client_info_tb['marketing_source'].value_counts()\n",
    "\n",
    "#create table merged between user_tbl and client_info_tb\n",
    "user_info_tbl = pd.merge(user_tbl, client_info_tb, on='client_id', how='left')\n",
    "\n",
    "#change marketing_source into str\n",
    "user_info_tbl.marketing_source = user_info_tbl.marketing_source.apply(str)\n",
    "\n",
    "#create new column if a user is organic, assume a user if organic if it is nan\n",
    "user_info_tbl['organic'] = user_info_tbl.apply(lambda x: 1 if 'Organic' in x['marketing_source'] else ( 1 if  x['marketing_source']=='nan' else 0), axis=1)\n",
    "\n",
    "#count organic and inorganic users\n",
    "inorganic_user_count = user_info_tbl[user_info_tbl['organic'] == 0].shape[0]\n",
    "organic_user_count = user_info_tbl[user_info_tbl['organic'] == 1].shape[0]\n",
    "print('organic_users: ', organic_user_count)\n",
    "print('inorganic_users: ', inorganic_user_count)\n",
    "\n",
    "#ratio of churned users who were inorganic:\n",
    "print('ratio of churned users who were inorganic:{}'.\\\n",
    "      format(\n",
    "user_info_tbl[(user_info_tbl['churned'] == 1) & (user_info_tbl['organic'] == 0)].shape[0] / churned_users.shape[0]))\n",
    "\n",
    "#ratio of stayed users who were inorganic:\n",
    "print('ratio of stayed users who were inorganic: {}'.\\\n",
    "      format(\n",
    "user_info_tbl[(user_info_tbl['churned'] == 0) & (user_info_tbl['organic'] == 0)].shape[0] / stayed_users.shape[0]))\n",
    "\n",
    "#conclusion: user who stayed have less inorganic than user who churned. In another words, user who stayed are a bit more likely to come from organic channels"
   ]
  },
  {
   "cell_type": "markdown",
   "metadata": {},
   "source": [
    "**words traded between client and therapist**\n",
    "- conclusion: not a significant difference in terms of total number of words replied from therapist because both stayed and churned users heard back from from therapist\n",
    "- business action: dive deeper into the quality of conversation"
   ]
  },
  {
   "cell_type": "code",
   "execution_count": 9,
   "metadata": {
    "scrolled": false
   },
   "outputs": [
    {
     "name": "stdout",
     "output_type": "stream",
     "text": [
      "median words for churned users where client spoke more than therapist: -78.0\n",
      "median words for stayed users where client spoke more than therapist: -62.5\n"
     ]
    }
   ],
   "source": [
    "##create clients words count\n",
    "client_words_tb = client_activity_tb[client_activity_tb['sender_type'] == 'client'].groupby('client_id') \\\n",
    ".sum()['word_count'].reset_index().rename(columns={'word_count':'client_word_count'})\n",
    "\n",
    "#create therapist words count\n",
    "therapist_words_tb = client_activity_tb[client_activity_tb['sender_type'] == 'therapist'].groupby('client_id') \\\n",
    ".sum()['word_count'].reset_index().rename(columns={'word_count':'therapist_word_count'})\n",
    "\n",
    "#create client_therapist_words_tbl and calculate words difference:\n",
    "client_therapist_words_tbl = pd.merge(client_words_tb, therapist_words_tb, on='client_id', how='outer')\n",
    "\n",
    "client_therapist_words_tbl[['client_word_count', 'therapist_word_count']] = client_therapist_words_tbl[['client_word_count', 'therapist_word_count']].fillna(0)\n",
    "\n",
    "client_therapist_words_tbl['client_more_words'] =client_therapist_words_tbl.apply \\\n",
    "(lambda row: row['client_word_count'] - row['therapist_word_count'], axis=1)\n",
    "\n",
    "#merge words diff table with user_info_tbl: \n",
    "user_info_words_tbl = pd.merge(user_info_tbl, client_therapist_words_tbl, on='client_id', how='left')\n",
    "user_info_words_tbl[['client_word_count', 'therapist_word_count', 'client_more_words']] = user_info_words_tbl[['client_word_count', 'therapist_word_count', 'client_more_words']].fillna(0)\n",
    "\n",
    "#check if user who churned spoke more than therapist\n",
    "print('median words for churned users where client spoke more than therapist: {}'.\\\n",
    "      format(user_info_words_tbl[user_info_words_tbl['churned'] == 1].client_more_words.median()))\n",
    "\n",
    "print('median words for stayed users where client spoke more than therapist: {}'.\\\n",
    "      format(user_info_words_tbl[user_info_words_tbl['churned'] == 0].client_more_words.median()))\n",
    "\n",
    "#conclusion: not a significant difference in terms of words replied from therapist because both stayed and churned heard back from from therapist"
   ]
  },
  {
   "cell_type": "markdown",
   "metadata": {},
   "source": [
    "**device type vs churn**\n",
    "- conclusion: most of the users use mobile platform, thus it cannot be concluded that users would leave because they had a bad experience due to platform\n",
    "- business action: mobile platform is the top choice for users, thus investment in mobile is important"
   ]
  },
  {
   "cell_type": "code",
   "execution_count": 10,
   "metadata": {
    "scrolled": true
   },
   "outputs": [
    {
     "name": "stdout",
     "output_type": "stream",
     "text": [
      "median mobile ratio for churned users: 0.9725399019731055\n",
      "median mobile ratio for stayed users: 0.9790524237771441\n"
     ]
    }
   ],
   "source": [
    "#device_type from client_activity_tb: some platform might have worse experience that could lead to churn\n",
    "\n",
    "#check distribution of platform\n",
    "client_activity_tb['device_type'].value_counts()\n",
    "\n",
    "#mobile/web ratio for each user\n",
    "client_mobile_tbl = client_activity_tb[(client_activity_tb['device_type'] == 'mobile') & (client_activity_tb['sender_type'] == 'client')] \\\n",
    ".groupby('client_id').count()['device_type'].reset_index().rename(columns={'device_type': 'mobile_device_type_count'})\n",
    "\n",
    "#mobile/web ratio for each user\n",
    "client_web_tbl = client_activity_tb[(client_activity_tb['device_type'] == 'web') & (client_activity_tb['sender_type'] == 'client')] \\\n",
    ".groupby('client_id').count()['device_type'].reset_index().rename(columns={'device_type': 'web_device_type_count'})\n",
    "\n",
    "#mobile/web ratio for each user\n",
    "client_web_mobile_total_tbl = client_activity_tb[client_activity_tb['sender_type'] == 'client'] \\\n",
    ".groupby('client_id').count()['device_type'].reset_index().rename(columns={'device_type': 'total_device_type_count'})\n",
    "\n",
    "#find the mobile/mobile+web ratio for each user\n",
    "web_mobile_dist = pd.merge(client_mobile_tbl, client_web_tbl, on='client_id', how='outer')\n",
    "web_mobile_tbl = pd.merge(web_mobile_dist, client_web_mobile_total_tbl, on='client_id', how='outer')\n",
    "\n",
    "web_mobile_tbl[['web_device_type_count', 'mobile_device_type_count', 'total_device_type_count']] = web_mobile_tbl[['web_device_type_count', 'mobile_device_type_count', 'total_device_type_count']].fillna(0)\n",
    "\n",
    "#calculate mobile_ratio\n",
    "web_mobile_tbl['mobile_ratio'] = web_mobile_tbl.apply(lambda row: row['mobile_device_type_count'] / row['total_device_type_count'], axis=1)\n",
    "\n",
    "user_info_words_mobile_tbl = pd.merge(user_info_words_tbl, web_mobile_tbl, on='client_id', how='left')\n",
    "user_info_words_mobile_tbl[['web_device_type_count', 'mobile_device_type_count', 'total_device_type_count']] = user_info_words_mobile_tbl[['web_device_type_count', 'mobile_device_type_count', 'total_device_type_count']].fillna(0)\n",
    "\n",
    "#calculate median mobile ratio for churned and stayed users:\n",
    "print('median mobile ratio for churned users: {}'.\\\n",
    "      format(user_info_words_mobile_tbl[user_info_words_mobile_tbl['churned'] == 1].mobile_ratio.median()))\n",
    "\n",
    "print('median mobile ratio for stayed users: {}'.\\\n",
    "      format(user_info_words_mobile_tbl[user_info_words_mobile_tbl['churned'] == 0].mobile_ratio.median()))\n",
    "\n",
    "#conclusion: most of the users use mobile platform, thus it cannot be concluded that users would leave because they had a bad experience due to platform"
   ]
  },
  {
   "cell_type": "markdown",
   "metadata": {},
   "source": [
    "**Decision Tree**\n",
    "- needs further tuning to arrive at any conclusion"
   ]
  },
  {
   "cell_type": "code",
   "execution_count": 11,
   "metadata": {
    "scrolled": true
   },
   "outputs": [],
   "source": [
    "###build a quick decision tree for business users\n",
    "#dummify value for presenting_issue_id\n",
    "user_info_words_mobile_tbl['presenting_issue_id'] = user_info_words_mobile_tbl['presenting_issue_id'].fillna(0)\n",
    "user_info_words_mobile_tbl['with_issue_presented'] = user_info_words_mobile_tbl.apply(lambda x: 1 if x.presenting_issue_id != 0 else 0, axis=1)\n",
    "\n",
    "#dummify categorical values\n",
    "\n",
    "dummified_columns = pd.get_dummies(user_info_words_mobile_tbl[[\"gender\", \"age_range\", \"marketing_source\"]],dummy_na=True) \n",
    "\n",
    "#join dummified value back into table\n",
    "user_info_words_mobile_tbl=user_info_words_mobile_tbl.join(dummified_columns)\n",
    "\n",
    "#convert timestamp of timedealta into seconds\n",
    "user_info_words_mobile_tbl['time_between_matching'] = user_info_words_mobile_tbl.apply(lambda row: row['time_between_matching'].total_seconds(), axis =1)\n",
    "\n",
    "#fill mobile ratio as 0 for nan\n",
    "user_info_words_mobile_tbl['mobile_ratio'] = user_info_words_mobile_tbl['mobile_ratio'].fillna(0)\n",
    "\n",
    "# #drop original columns and timestamp since they have been dumified already\n",
    "drop_columns = [\"lead_capture_date\", \"purchase_date\", \"match_date\", \"cancelation_date\", \"client_id\", \"gender\", \"age_range\", \"marketing_source\", \"presenting_issue_id\"]\n",
    "user_info_words_mobile_tree_prep_tbl = user_info_words_mobile_tbl.drop(drop_columns, axis = 1)\n",
    "\n"
   ]
  },
  {
   "cell_type": "code",
   "execution_count": 12,
   "metadata": {
    "scrolled": true
   },
   "outputs": [
    {
     "name": "stdout",
     "output_type": "stream",
     "text": [
      "original length:  4089\n",
      "filtered length:  3961\n",
      "f1 score:  0.8043310131477185\n"
     ]
    },
    {
     "data": {
      "image/png": "[encoded data removed]",
      "text/plain": [
       "<IPython.core.display.Image object>"
      ]
     },
     "execution_count": 12,
     "metadata": {},
     "output_type": "execute_result"
    }
   ],
   "source": [
    "###start building decision tree\n",
    "#check dataset length without na values:\n",
    "print('original length: ', user_info_words_mobile_tree_prep_tbl.shape[0])\n",
    "print('filtered length: ', user_info_words_mobile_tree_prep_tbl[user_info_words_mobile_tree_prep_tbl.apply(lambda x: sum(x.isnull().values), axis = 1)==0].shape[0])\n",
    "\n",
    "#dataset for decision tree\n",
    "user_info_words_mobile_tree_prep_filtered_tbl = user_info_words_mobile_tree_prep_tbl[user_info_words_mobile_tree_prep_tbl.apply(lambda x: sum(x.isnull().values), axis = 1)==0]\n",
    "\n",
    "#prep train test split\n",
    "X_train, X_test, y_train, y_test = train_test_split(\n",
    "    user_info_words_mobile_tree_prep_filtered_tbl.drop('churned', axis=1), \n",
    "    user_info_words_mobile_tree_prep_filtered_tbl['churned'], test_size=0.2, random_state=0, stratify=user_info_words_mobile_tree_prep_filtered_tbl['churned'].values)\n",
    "\n",
    "tree_model = tree.DecisionTreeClassifier(max_depth=2, criterion='gini', min_samples_leaf=2)\n",
    "\n",
    "tree_model.fit(X_train, y_train)\n",
    "\n",
    "y_predict = tree_model.predict(X_test)\n",
    "\n",
    "print('f1 score: ', f1_score(y_test, y_predict))\n",
    "\n",
    "#conda install python-graphviz\n",
    "dot_graph_name = 'decision_tree.dot'\n",
    "png_graph_name = 'decision_tree.png'\n",
    "tree.export_graphviz(tree_model,out_file = dot_graph_name,\n",
    "                    feature_names=X_train.columns, \n",
    "                     class_names=['0','1'],\n",
    "                    filled=True, rounded=True ) \n",
    "\n",
    "#!dot -Tpng try_graph.dot -o try_graph.png\n",
    "#type graph name below\n",
    "!dot -Tpng decision_tree.dot -o decision_tree.png\n",
    "\n",
    "from IPython.display import Image\n",
    "Image(filename=png_graph_name)"
   ]
  },
  {
   "cell_type": "code",
   "execution_count": null,
   "metadata": {
    "scrolled": true
   },
   "outputs": [],
   "source": []
  }
 ],
 "metadata": {
  "kernelspec": {
   "display_name": "tf_env",
   "language": "python",
   "name": "tf_env"
  },
  "language_info": {
   "codemirror_mode": {
    "name": "ipython",
    "version": 3
   },
   "file_extension": ".py",
   "mimetype": "text/x-python",
   "name": "python",
   "nbconvert_exporter": "python",
   "pygments_lexer": "ipython3",
   "version": "3.6.7"
  }
 },
 "nbformat": 4,
 "nbformat_minor": 2
}
